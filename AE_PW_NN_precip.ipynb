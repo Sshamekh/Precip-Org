{
 "cells": [
  {
   "cell_type": "code",
   "execution_count": 3,
   "metadata": {},
   "outputs": [],
   "source": [
    "from utils_vae import read_field\n",
    "from netCDF4 import Dataset\n",
    "import numpy as np\n",
    "import matplotlib.pyplot as plt\n",
    "from tensorflow.keras import Model\n",
    "import tensorflow\n",
    "# import keras \n",
    "from tensorflow import keras\n",
    "from tensorflow.keras import layers\n",
    "from tensorflow.keras import backend as K\n",
    "from tensorflow.keras.models import Model\n",
    "from tensorflow.keras.losses import mse\n",
    "import sys, importlib\n",
    "\n",
    "from tensorflow.keras import backend as K\n",
    "from tensorflow.keras.callbacks import LearningRateScheduler\n",
    "from tensorflow.keras.utils import plot_model\n",
    "import tensorflow as tf\n",
    "\n",
    "from tensorflow.keras import regularizers\n",
    "from tensorflow.keras.layers import Input, Dense,Flatten \n",
    "from VAES import encoder_gen , dense_gen,encoder_dense,cloud_model,kl,schedule,decoder_dense\n",
    "import matplotlib.pyplot as plt\n"
   ]
  },
  {
   "cell_type": "code",
   "execution_count": 2,
   "metadata": {},
   "outputs": [
    {
     "name": "stdout",
     "output_type": "stream",
     "text": [
      "2.9.1\n"
     ]
    }
   ],
   "source": [
    "print(tensorflow.__version__)\n",
    "# importlib.reload(sys.modules['VAES'])\n",
    "from VAES import encoder_gen , dense_gen,encoder_dense,cloud_model,kl,schedule,decoder_dense"
   ]
  },
  {
   "cell_type": "code",
   "execution_count": 3,
   "metadata": {},
   "outputs": [],
   "source": [
    "path = \"/glade/scratch/sshamekh/dyamond/SAM_highres/\"\n"
   ]
  },
  {
   "cell_type": "markdown",
   "metadata": {},
   "source": [
    "SAM data: degree in longitude is constant as the radius changes. This means moving poleward, the models resolution increases. The latitudinal resolution has been reduced moving poleward in order for the models grid to stay close to square shape. Models resolution near the equator is about 4.3 and it reduces to 4.1 at 20 S/N. \n",
    "\n",
    "Now, to coarse grain the data, we approxmate models resolution to be 4.2 km in both lon lat direction. \n",
    "Then we decide the rescalaing size. This is our large scale, or GCM size grid. Here I represent it with largescale. "
   ]
  },
  {
   "cell_type": "code",
   "execution_count": 2,
   "metadata": {},
   "outputs": [],
   "source": [
    "# %%time\n",
    "import sys, importlib\n",
    "importlib.reload(sys.modules['utils_vae'])\n",
    "from utils_vae import train_test_data\n",
    "t1 = 0\n",
    "t2 = 10\n",
    "high_res = 4.0 # km \n",
    "large_scale = 128#km\n",
    "dim = int(large_scale/high_res)\n",
    "\n",
    "x_train_hr , x_train_lg , y_train_lg , x_test_hr, x_test_lg , y_test_lg = train_test_data(path, high_res,large_scale,t1,t2,threshold_precip = 0.01)\n"
   ]
  },
  {
   "cell_type": "code",
   "execution_count": 42,
   "metadata": {},
   "outputs": [],
   "source": [
    "from VAES import encoder_gen , dense_gen,encoder_dense,cloud_model,kl,schedule,decoder_dense\n",
    "\n",
    "# # Opening JSON file\n",
    "with open('config_32_RI_decoder_4nodes.json') as json_file:\n",
    "    model_config = json.load(json_file)\n",
    "importlib.reload(sys.modules['VAES'])\n"
   ]
  },
  {
   "cell_type": "code",
   "execution_count": 28,
   "metadata": {},
   "outputs": [],
   "source": [
    "class Loss_log_like( keras.layers.Layer ):\n",
    "    def __init__(self,name = None):\n",
    "        super(Loss_log_like,self).__init__(name= name)\n",
    "        self.loss_mse = tf.keras.losses.MeanSquaredError()\n",
    "    \n",
    "    def call(self,inputs , weights = 1):\n",
    "        n_dims = 1\n",
    "        ytrue,ypred = inputs['true'],inputs['pred']\n",
    "        mu = ypred[:, 0:n_dims]\n",
    "        logsigma = ypred[:, n_dims:]\n",
    "\n",
    "        mse = -0.5*K.sum(K.square((ytrue-mu)/K.exp(logsigma)),axis=1)\n",
    "        sigma_trace = -K.sum(logsigma, axis=1)\n",
    "        log2pi = -0.5*n_dims*np.log(2*np.pi)\n",
    "\n",
    "        log_likelihood = mse+sigma_trace+log2pi\n",
    "\n",
    "    \n",
    "        loss = K.mean(-log_likelihood)\n",
    "        self.add_loss(weights*loss)\n",
    "        \n",
    "        self.add_metric(loss,name = self.name)\n",
    "        self.add_metric(self.loss_mse(mu,ytrue),name = 'mse_'+self.name)## only for comparison\n",
    "        \n",
    "        \n",
    "        \n",
    "        \n",
    "#         qs = [0.975, 0.995]\n",
    "#         q = tf.constant(np.array([qs]), dtype=tf.float32)\n",
    "#         error = ytrue - mu\n",
    "#         val = tf.maximum(q*error, (q-1)*error)\n",
    "#         lossq = K.mean(val)\n",
    "        \n",
    "#         self.add_loss(2*lossq)\n",
    "#         self.add_metric(lossq,name = self.name+'quntile')\n",
    "\n",
    "        return ypred\n",
    "    \n",
    "\n",
    "    \n",
    "class Loss_Simple( keras.layers.Layer ):\n",
    "    def __init__(self,name = None):\n",
    "        super(Loss_Simple,self).__init__(name= name)\n",
    "        self.loss_mse = tf.keras.losses.MeanSquaredError()\n",
    "    \n",
    "    def call(self,inputs , weights = 1):\n",
    "        n_dims = 1\n",
    "        ytrue,ypred = inputs['true'],inputs['pred']\n",
    "        # yp = ypred[:,0]\n",
    "        loss = self.loss_mse(ytrue,ypred)\n",
    "        self.add_loss(weights*loss)\n",
    "        self.add_metric(self.loss_mse(ytrue,ypred),name = self.name+'mse')\n",
    "        \n",
    "\n",
    "        \n",
    "        return ypred\n",
    "    \n",
    "\n",
    "class Loss_rotation_invariant( keras.layers.Layer ):\n",
    "    \n",
    "    def __init__(self,name = None):\n",
    "        super(Loss_rotation_invariant,self).__init__(name= name)\n",
    "        self.loss_mse = tf.keras.losses.MeanAbsoluteError()\n",
    "        self.lambda_weight = 1\n",
    " \n",
    "    def call (self,inputs, weights = 1):\n",
    "        # loss: reconstruction\n",
    "        y_true,y_pred = inputs['true'],inputs['pred']\n",
    "        \n",
    "        \n",
    "        loss = self.loss_mse(y_true,y_pred)\n",
    "        mean_org = K.mean(K.abs(y_true))\n",
    "        self.add_loss(weights * loss/mean_org)\n",
    "        self.add_metric(loss/mean_org,name = self.name)\n",
    "        self.add_metric(mean_org,name = 'mean_org')\n",
    "        return loss\n",
    "        \n",
    "\n"
   ]
  },
  {
   "cell_type": "code",
   "execution_count": 29,
   "metadata": {},
   "outputs": [
    {
     "name": "stdout",
     "output_type": "stream",
     "text": [
      "shape of input after padding (None, 32, 32, 1)\n",
      "shape after first convolutional layer (None, 17, 16, 16)\n",
      "shape after second convolutional layer (None, 9, 8, 16)\n",
      "shape before flattening (None, 5, 4, 8)\n",
      "shape after flattening (None, 4)\n",
      "shape at beginning of decoder (None, 1024)\n",
      "shape after conv recon layer (None, 32, 32)\n",
      "output shape is:  (None, 16)\n",
      "output shape is:  (None, 1)\n",
      "True\n"
     ]
    }
   ],
   "source": [
    "outputs = []\n",
    "coef = model_config[\"coef\"]\n",
    "dim = model_config[\"dim\"]\n",
    "inshape = model_config[\"inshape\"]\n",
    "rotation_invariant = model_config['rotation_invariant']\n",
    "train_decoder = model_config['train_decoder']\n",
    "inshape_cloud = (inshape+model_config[\"configs_encoder\"]['latent_dim'],)\n",
    "inshape_precip = (inshape+model_config[\"configs_encoder\"]['latent_dim'],)\n",
    "\n",
    "\n",
    "## rotating data in batch while training \n",
    "data_augmentation = tf.keras.Sequential([\n",
    "  layers.experimental.preprocessing.RandomFlip(\"horizontal_and_vertical\"),\n",
    "    layers.experimental.preprocessing.RandomFlip(\"horizontal_and_vertical\"),\n",
    "])\n",
    "\n",
    "encoder_result = encoder_gen((dim, dim,1),model_config[\"configs_encoder\"])\n",
    "decode_zz = decoder_dense((dim, dim),model_config[\"config_decoder\"])\n",
    "\n",
    "clouds_cc = cloud_model(inshape_cloud,model_config[\"config_cloudnn\"])\n",
    "precip_model = dense_gen(inshape_precip,model_config[\"config_dense\"])\n",
    "\n",
    "inputhighres = tf.keras.layers.Input(shape=(dim, dim,1))\n",
    "inputdense = tf.keras.layers.Input(shape=(inshape,))\n",
    "precip_true = tf.keras.layers.Input(shape=(1,))\n",
    "\n",
    "\n",
    "\n",
    "\n",
    "\n",
    "z_orig = encoder_result.vae_encoder(inputhighres)\n",
    "\n",
    "\n",
    "\n",
    "z_clt = tf.keras.layers.Concatenate(axis = -1)([z_orig,inputdense])\n",
    "\n",
    "precip = precip_model.dense_nn(z_clt)\n",
    "\n",
    "\n",
    "prec_pred  = Loss_Simple(name = 'precip_loss')({'true':precip_true,'pred':precip}, weights = 1)\n",
    "outputs.append(prec_pred)\n",
    "if train_decoder :\n",
    "    hr_reconst= decode_zz(z_orig)\n",
    "    hr_pred = Loss_Simple(name= 'hr_loss')({'true':inputhighres,'pred':hr_reconst\n",
    "                                            }, weights = 1)\n",
    "    outputs.append(hr_pred)\n",
    "\n",
    "\n",
    "if rotation_invariant:\n",
    "    print ('True')\n",
    "    input_rotated = data_augmentation(inputhighres)\n",
    "    z_rotated = encoder_result.vae_encoder(input_rotated)\n",
    "    loss_RI = Loss_rotation_invariant(name = 'rotationloss')({'true':z_orig,'pred':z_rotated})\n",
    "    outputs.append(z_rotated)\n",
    "    \n",
    "\n",
    "\n",
    "vae = tf.keras.Model(inputs=[inputhighres,inputdense,precip_true],\n",
    "                     outputs=outputs)\n",
    "\n",
    "optimizer = tensorflow.keras.optimizers.Adam(learning_rate=0.0004)\n",
    "callback_lr=LearningRateScheduler(schedule,verbose=1)\n",
    "earlyStopping=tensorflow.keras.callbacks.EarlyStopping(monitor='val_loss', patience=10, verbose=0, mode='auto')\n",
    "\n",
    "vae.compile(optimizer = optimizer)\n",
    "\n"
   ]
  },
  {
   "cell_type": "code",
   "execution_count": 21,
   "metadata": {},
   "outputs": [],
   "source": [
    "# vae.summary()"
   ]
  },
  {
   "cell_type": "code",
   "execution_count": 1,
   "metadata": {
    "scrolled": true,
    "tags": []
   },
   "outputs": [],
   "source": [
    "%%time\n",
    "hist = vae.fit(\n",
    "        x=[x_train_hr,x_train_lg[:,:],y_train_lg],\n",
    "        epochs=100,\n",
    "        batch_size=128,\n",
    "        validation_split = 0.2,\n",
    "        callbacks= [earlyStopping,callback_lr],\n",
    "        shuffle = True\n",
    "    )"
   ]
  },
  {
   "cell_type": "code",
   "execution_count": 85,
   "metadata": {},
   "outputs": [
    {
     "data": {
      "image/png": "[encoded data removed]",
      "text/plain": [
       "<Figure size 504x360 with 1 Axes>"
      ]
     },
     "metadata": {
      "needs_background": "light"
     },
     "output_type": "display_data"
    }
   ],
   "source": [
    "fig = plt.figure(figsize=[7,5])\n",
    "for ky in hist.history.keys():\n",
    "    if ky!='lr':\n",
    "        plt.plot(hist.history[ky][:],label = ky)\n",
    "\n",
    "plt.xlabel('Epoch')\n",
    "plt.ylabel('MSE')\n",
    "plt.legend()\n",
    "           \n",
    "plt.show()\n",
    "\n",
    "# fig.savefig('mse.jpeg',bbox_inches = 'tight',dpi = 100)"
   ]
  },
  {
   "cell_type": "code",
   "execution_count": 24,
   "metadata": {},
   "outputs": [
    {
     "data": {
      "text/plain": [
       "0.8993898252175628"
      ]
     },
     "execution_count": 24,
     "metadata": {},
     "output_type": "execute_result"
    }
   ],
   "source": [
    "from sklearn.metrics import r2_score\n",
    "\n",
    "predict \n",
    "\n",
    "r2_score(y_test[:,0],predict[0])"
   ]
  },
  {
   "cell_type": "code",
   "execution_count": null,
   "metadata": {},
   "outputs": [],
   "source": []
  }
 ],
 "metadata": {
  "kernelspec": {
   "display_name": "Python 3",
   "language": "python",
   "name": "python3"
  },
  "language_info": {
   "codemirror_mode": {
    "name": "ipython",
    "version": 3
   },
   "file_extension": ".py",
   "mimetype": "text/x-python",
   "name": "python",
   "nbconvert_exporter": "python",
   "pygments_lexer": "ipython3",
   "version": "3.7.4"
  }
 },
 "nbformat": 4,
 "nbformat_minor": 4
}
