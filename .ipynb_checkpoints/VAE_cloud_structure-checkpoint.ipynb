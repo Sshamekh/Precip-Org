{
 "cells": [
  {
   "cell_type": "code",
   "execution_count": 1,
   "metadata": {},
   "outputs": [
    {
     "name": "stderr",
     "output_type": "stream",
     "text": [
      "2022-11-16 02:42:55.222718: W tensorflow/stream_executor/platform/default/dso_loader.cc:64] Could not load dynamic library 'libcudart.so.11.0'; dlerror: libcudart.so.11.0: cannot open shared object file: No such file or directory; LD_LIBRARY_PATH: /glade/u/apps/ch/opt/mpt_fmods/2.25/intel/19.1.1:/glade/u/apps/ch/opt/mpt/2.25/lib:/glade/u/apps/opt/intel/2020u1/compilers_and_libraries/linux/lib/intel64:/glade/u/apps/ch/os/usr/lib64:/glade/u/apps/ch/os/usr/lib:/glade/u/apps/ch/os/lib64:/glade/u/apps/ch/os/lib\n",
      "2022-11-16 02:42:55.222754: I tensorflow/stream_executor/cuda/cudart_stub.cc:29] Ignore above cudart dlerror if you do not have a GPU set up on your machine.\n"
     ]
    }
   ],
   "source": [
    "from utils_vae import read_field\n",
    "from netCDF4 import Dataset\n",
    "import numpy as np\n",
    "import matplotlib.pyplot as plt\n",
    "from tensorflow.keras import Model\n",
    "import tensorflow\n",
    "# import keras \n",
    "from tensorflow import keras\n",
    "from tensorflow.keras import layers\n",
    "from tensorflow.keras import backend as K\n",
    "from tensorflow.keras.models import Model\n",
    "from tensorflow.keras.losses import mse\n",
    "import sys, importlib\n",
    "\n",
    "from tensorflow.keras import backend as K\n",
    "from tensorflow.keras.callbacks import LearningRateScheduler\n",
    "from tensorflow.keras.utils import plot_model\n",
    "import tensorflow as tf\n",
    "\n",
    "from tensorflow.keras import regularizers\n",
    "from tensorflow.keras.layers import Input, Dense,Flatten \n",
    "from VAES import encoder_gen , dense_gen,encoder_dense,cloud_model,kl,schedule,decoder_dense\n",
    "import matplotlib.pyplot as plt\n"
   ]
  },
  {
   "cell_type": "code",
   "execution_count": 2,
   "metadata": {},
   "outputs": [
    {
     "name": "stdout",
     "output_type": "stream",
     "text": [
      "2.9.1\n"
     ]
    }
   ],
   "source": [
    "print(tensorflow.__version__)\n",
    "# importlib.reload(sys.modules['VAES'])\n",
    "from VAES import encoder_gen , dense_gen,encoder_dense,cloud_model,kl,schedule,decoder_dense"
   ]
  },
  {
   "cell_type": "code",
   "execution_count": 3,
   "metadata": {},
   "outputs": [],
   "source": [
    "path = \"/glade/scratch/sshamekh/dyamond/SAM_highres/\"\n"
   ]
  },
  {
   "cell_type": "markdown",
   "metadata": {},
   "source": [
    "SAM data: degree in longitude is constant as the radius changes. This means moving poleward, the models resolution increases. The latitudinal resolution has been reduced moving poleward in order for the models grid to stay close to square shape. Models resolution near the equator is about 4.3 and it reduces to 4.1 at 20 S/N. \n",
    "\n",
    "Now, to coarse grain the data, we approxmate models resolution to be 4.2 km in both lon lat direction. \n",
    "Then we decide the rescalaing size. This is our large scale, or GCM size grid. Here I represent it with largescale. "
   ]
  },
  {
   "cell_type": "code",
   "execution_count": 4,
   "metadata": {},
   "outputs": [
    {
     "name": "stdout",
     "output_type": "stream",
     "text": [
      "Reading large-scale outputs\n",
      "pracc\n",
      "(760, 24, 287, 1)\n",
      "[[[[0.8208742125920748]]]]\n",
      "Reading high resolution input\n",
      "qvi\n",
      "no scaling\n",
      "(760, 24, 287, 32, 32, 1)\n",
      "Reading large-scale inputs\n",
      "qvi\n",
      "ts\n",
      "tas\n",
      "huss\n",
      "(760, 24, 287, 4)\n",
      "Reading large-scale inputs2\n",
      "vas\n",
      "uas\n",
      "hfss\n",
      "hfls\n",
      "(760, 24, 287, 4)\n",
      "nt, nlat, nlon, nxy, nxy, nv_hr: (760, 24, 287, 32, 32, 1)\n"
     ]
    }
   ],
   "source": [
    "# %%time\n",
    "import sys, importlib\n",
    "importlib.reload(sys.modules['utils_vae'])\n",
    "from utils_vae import train_test_data\n",
    "t1 = 0\n",
    "t2 = 8\n",
    "high_res = 4.0 # km \n",
    "large_scale = 128#km\n",
    "dim = int(large_scale/high_res)\n",
    "\n",
    "x_hr,x_lg,x_lg2,y_out = train_test_data(path, high_res,large_scale,t1,t2,threshold_precip = 0.01)\n"
   ]
  },
  {
   "cell_type": "code",
   "execution_count": 5,
   "metadata": {},
   "outputs": [],
   "source": [
    "# std_hr = np.std(x_hr,axis = (1,2),keepdims = True)\n",
    "\n",
    "pw_anomaly= (x_hr - np.mean(x_hr,axis = (1,2),keepdims = True)) "
   ]
  },
  {
   "cell_type": "code",
   "execution_count": 6,
   "metadata": {},
   "outputs": [],
   "source": [
    "x_lg = np.concatenate((x_lg,x_lg2[:,2:]),axis = -1)"
   ]
  },
  {
   "cell_type": "code",
   "execution_count": 7,
   "metadata": {},
   "outputs": [],
   "source": [
    "mask= np.random.rand(x_hr.shape[0])<0.8\n",
    "x_train_hr,x_test_hr = pw_anomaly[mask,:],pw_anomaly[~mask,:]\n",
    "\n",
    "x_train_lg,x_test_lg = x_lg[mask,:],x_lg[~mask,:]\n",
    "\n",
    "y_train_lg,y_test_lg = y_out[mask,:],y_out[~mask,:]"
   ]
  },
  {
   "cell_type": "code",
   "execution_count": 7,
   "metadata": {},
   "outputs": [
    {
     "data": {
      "text/plain": [
       "(1256306, 6)"
      ]
     },
     "execution_count": 7,
     "metadata": {},
     "output_type": "execute_result"
    }
   ],
   "source": [
    "x_lg.shape"
   ]
  },
  {
   "cell_type": "code",
   "execution_count": 92,
   "metadata": {},
   "outputs": [
    {
     "name": "stdout",
     "output_type": "stream",
     "text": [
      "Stored 'x_train_lg' (MaskedArray)\n",
      "Stored 'y_train_lg' (MaskedArray)\n",
      "Stored 'x_test_lg' (MaskedArray)\n",
      "Stored 'y_test_lg' (MaskedArray)\n"
     ]
    }
   ],
   "source": [
    "%store  x_train_lg\n",
    "%store  y_train_lg\n",
    "%store  x_test_lg\n",
    "%store  y_test_lg"
   ]
  },
  {
   "cell_type": "code",
   "execution_count": 20,
   "metadata": {},
   "outputs": [],
   "source": [
    "# # Opening JSON file\n",
    "# with open('model_config05.json') as json_file:\n",
    "#     model_config = json.load(json_file)\n",
    "# importlib.reload(sys.modules['VAES'])\n",
    "from VAES import encoder_gen , dense_gen,encoder_dense,cloud_model,kl,schedule,decoder_dense\n",
    "model_config = {'inshape': [8],\n",
    " 'configs_encoder': {'activation': 'relu',\n",
    "  'latent_dim': 2,\n",
    "  'conv_1': {'filter_num': 16, 'kernel_size': [4, 4], 'stride': 2},\n",
    "  'conv_2': {'filter_num': 16, 'kernel_size': [4, 4], 'stride': 2},\n",
    "  'conv_3': {'filter_num': 8, 'kernel_size': [4, 4], 'stride': 2},\n",
    "  'dense_1': {'unit_num': 128},\n",
    "  'dense_2': {'unit_num': 64},\n",
    "  'dense_3': {'unit_num': 32},\n",
    "  'dense_4': {'unit_num': 16},\n",
    "  'dense_5': {'activation': None}},\n",
    " 'config_decoder': {'latent_dim': 2,\n",
    "  'activation': 'relu',\n",
    "  'dense1': {'unit_num': 64},\n",
    "  'dense2': {'unit_num': 128},\n",
    "  'dense3': {'unit_num': 265},\n",
    "  'dense4': {'unit_num': 512},\n",
    "  'dense5': {'unit_num': dim**2}},\n",
    " 'config_dense': {'activation': 'relu',\n",
    "  'layer_1': {'unit_num': 256},\n",
    "  'layer_2': {'unit_num': 256},\n",
    "  'layer_3': {'unit_num': 128},\n",
    "  'layer_4': {'unit_num': 64},\n",
    "  'layer_5': {'unit_num': 1, 'activation': None}},\n",
    " 'config_cloudnn': {'activation': 'relu',\n",
    "  'layer_1': {'unit_num': 64},\n",
    "  'layer_2': {'unit_num': 64},\n",
    "  'layer_3': {'unit_num': 32},\n",
    "  'layer_4': {'unit_num': 16},\n",
    "  'layer_5': {'unit_num': 2, 'activation': None}}}"
   ]
  },
  {
   "cell_type": "code",
   "execution_count": 21,
   "metadata": {},
   "outputs": [],
   "source": [
    "class Loss_log_like( keras.layers.Layer ):\n",
    "    def __init__(self,name = None):\n",
    "        super(Loss_log_like,self).__init__(name= name)\n",
    "        self.loss_mse = tf.keras.losses.MeanSquaredError()\n",
    "    \n",
    "    def call(self,inputs , weights = 1):\n",
    "        n_dims = 1\n",
    "        ytrue,ypred = inputs['true'],inputs['pred']\n",
    "        mu = ypred[:, 0:n_dims]\n",
    "        logsigma = ypred[:, n_dims:]\n",
    "\n",
    "        mse = -0.5*K.sum(K.square((ytrue-mu)/K.exp(logsigma)),axis=1)\n",
    "        sigma_trace = -K.sum(logsigma, axis=1)\n",
    "        log2pi = -0.5*n_dims*np.log(2*np.pi)\n",
    "\n",
    "        log_likelihood = mse+sigma_trace+log2pi\n",
    "\n",
    "    \n",
    "        loss = K.mean(-log_likelihood)\n",
    "        self.add_loss(weights*loss)\n",
    "        \n",
    "        self.add_metric(loss,name = self.name)\n",
    "        self.add_metric(self.loss_mse(mu,ytrue),name = 'mse_'+self.name)## only for comparison\n",
    "        \n",
    "        \n",
    "        \n",
    "        \n",
    "#         qs = [0.975, 0.995]\n",
    "#         q = tf.constant(np.array([qs]), dtype=tf.float32)\n",
    "#         error = ytrue - mu\n",
    "#         val = tf.maximum(q*error, (q-1)*error)\n",
    "#         lossq = K.mean(val)\n",
    "        \n",
    "#         self.add_loss(2*lossq)\n",
    "#         self.add_metric(lossq,name = self.name+'quntile')\n",
    "\n",
    "        return ypred\n",
    "    \n",
    "\n",
    "    \n",
    "class Loss_Simple( keras.layers.Layer ):\n",
    "    def __init__(self,name = None):\n",
    "        super(Loss_Simple,self).__init__(name= name)\n",
    "        self.loss_mse = tf.keras.losses.MeanSquaredError    \n",
    "    def call(self,inputs , weights = 1):\n",
    "        n_dims = 1\n",
    "        ytrue,ypred = inputs['true'],inputs['pred']\n",
    "        # yp = ypred[:,0]\n",
    "        loss = self.loss_mse(ytrue,ypred)\n",
    "        self.add_loss(weights*loss)\n",
    "        self.add_metric(self.loss_mse(ytrue,ypred),name = self.name+'mse')\n",
    "        \n",
    "\n",
    "        \n",
    "        return ypred\n",
    "    \n",
    "\n",
    "class Loss_rotation_invariant( keras.layers.Layer ):\n",
    "    \n",
    "    def __init__(self,name = None):\n",
    "        super(Loss_rotation_invariant,self).__init__(name= name)\n",
    "        self.loss_mse = tf.keras.losses.MeanAbsoluteError()\n",
    "        self.lambda_weight = 0.1\n",
    " \n",
    "    def call (self,inputs, weights = 1):\n",
    "        # loss: reconstruction\n",
    "        y_true,y_pred = inputs['true'],inputs['pred']\n",
    "        \n",
    "        \n",
    "        loss = self.loss_mse(y_true,y_pred)\n",
    "        self.add_loss(weights * loss)\n",
    "        self.add_metric(loss,name = self.name)\n",
    "        \n",
    "\n"
   ]
  },
  {
   "cell_type": "code",
   "execution_count": 22,
   "metadata": {},
   "outputs": [
    {
     "name": "stdout",
     "output_type": "stream",
     "text": [
      "shape of input after padding (None, 32, 32, 1)\n",
      "shape after first convolutional layer (None, 17, 16, 16)\n",
      "shape after second convolutional layer (None, 9, 8, 16)\n",
      "shape before flattening (None, 5, 4, 8)\n",
      "shape after flattening (None, 2)\n",
      "shape at beginning of decoder (None, 1024)\n",
      "shape after conv recon layer (None, 32, 32)\n",
      "output shape is:  (None, 16)\n",
      "output shape is:  (None, 1)\n"
     ]
    }
   ],
   "source": [
    "coef = 1e1\n",
    "inshape = 6\n",
    "inshape_cloud = (inshape+model_config[\"configs_encoder\"]['latent_dim'],)\n",
    "inshape_precip = (inshape+model_config[\"configs_encoder\"]['latent_dim'],)\n",
    "# inshape_precip = (inshape,)\n",
    "\n",
    "## rotating data in batch while training \n",
    "data_augmentation = tf.keras.Sequential([\n",
    "  layers.experimental.preprocessing.RandomFlip(\"horizontal_and_vertical\"),\n",
    "    layers.experimental.preprocessing.RandomFlip(\"horizontal_and_vertical\"),\n",
    "])\n",
    "\n",
    "encoder_result = encoder_gen((dim, dim,1),model_config[\"configs_encoder\"])\n",
    "decode_zz = decoder_dense((dim, dim),model_config[\"config_decoder\"])\n",
    "\n",
    "clouds_cc = cloud_model(inshape_cloud,model_config[\"config_cloudnn\"])\n",
    "precip_model = dense_gen(inshape_precip,model_config[\"config_dense\"])\n",
    "\n",
    "inputhighres = tf.keras.layers.Input(shape=(dim, dim,1))\n",
    "\n",
    "inputdense = tf.keras.layers.Input(shape=(inshape,))\n",
    "\n",
    "\n",
    "precip_true = tf.keras.layers.Input(shape=(1,))\n",
    "cloud_true = tf.keras.layers.Input(shape=(1,))\n",
    "# std_pw = tf.keras.layers.Input(shape=(1,))\n",
    "\n",
    "\n",
    "\n",
    "z_orig = encoder_result.vae_encoder(inputhighres)\n",
    "\n",
    "hr_reconst= decode_zz(z_orig)\n",
    "\n",
    "z_clt = tf.keras.layers.Concatenate(axis = -1)([z_orig,inputdense])\n",
    "\n",
    "precip = precip_model.dense_nn(z_clt)\n",
    "\n",
    "\n",
    "prec_pred  = Loss_Simple(name = 'precip_loss')({'true':precip_true,'pred':precip}, weights = 0.5)\n",
    "hr_pred = Loss_Simple(name= 'hr_loss')({'true':inputhighres,'pred':hr_reconst\n",
    "                                            }, weights = 1)\n",
    "# if rotation_invariant:\n",
    "#     input_rotate = data_augmentation(inputhighres)\n",
    "#     z_rotated = encoder_result.vae_encoder(input_rotated)\n",
    "#     Loss_rotation_invariant(name = 'rotationloss')({'true':z_orig,'pred':z_rotated})\n",
    "     \n",
    "    \n",
    "\n",
    "\n",
    "vae = tf.keras.Model(inputs=[inputhighres,inputdense,precip_true],\n",
    "                     outputs=[prec_pred,hr_pred])\n",
    "\n",
    "optimizer = tensorflow.keras.optimizers.Adam(learning_rate=0.0004)\n",
    "callback_lr=LearningRateScheduler(schedule,verbose=1)\n",
    "earlyStopping=tensorflow.keras.callbacks.EarlyStopping(monitor='val_loss', patience=10, verbose=0, mode='auto')\n",
    "\n",
    "vae.compile(optimizer = optimizer)\n",
    "\n"
   ]
  },
  {
   "cell_type": "code",
   "execution_count": 23,
   "metadata": {},
   "outputs": [],
   "source": [
    "# vae.summary()"
   ]
  },
  {
   "cell_type": "code",
   "execution_count": 24,
   "metadata": {
    "scrolled": true,
    "tags": []
   },
   "outputs": [
    {
     "name": "stdout",
     "output_type": "stream",
     "text": [
      "\n",
      "Epoch 1: LearningRateScheduler setting learning rate to 0.0004.\n",
      "Epoch 1/100\n",
      "6278/6278 [==============================] - 63s 10ms/step - loss: 0.0580 - precip_lossmse: 0.0643 - hr_lossmse: 0.0259 - val_loss: 0.0525 - val_precip_lossmse: 0.0528 - val_hr_lossmse: 0.0261 - lr: 4.0000e-04\n",
      "\n",
      "Epoch 2: LearningRateScheduler setting learning rate to 0.0004.\n",
      "Epoch 2/100\n",
      "6278/6278 [==============================] - 61s 10ms/step - loss: 0.0533 - precip_lossmse: 0.0551 - hr_lossmse: 0.0257 - val_loss: 0.0512 - val_precip_lossmse: 0.0502 - val_hr_lossmse: 0.0261 - lr: 4.0000e-04\n",
      "\n",
      "Epoch 3: LearningRateScheduler setting learning rate to 0.0004.\n",
      "Epoch 3/100\n",
      "6278/6278 [==============================] - 61s 10ms/step - loss: 0.0519 - precip_lossmse: 0.0524 - hr_lossmse: 0.0257 - val_loss: 0.0512 - val_precip_lossmse: 0.0501 - val_hr_lossmse: 0.0261 - lr: 4.0000e-04\n",
      "\n",
      "Epoch 4: LearningRateScheduler setting learning rate to 0.0004.\n",
      "Epoch 4/100\n",
      "6278/6278 [==============================] - 61s 10ms/step - loss: 0.0513 - precip_lossmse: 0.0510 - hr_lossmse: 0.0257 - val_loss: 0.0498 - val_precip_lossmse: 0.0474 - val_hr_lossmse: 0.0261 - lr: 4.0000e-04\n",
      "\n",
      "Epoch 5: LearningRateScheduler setting learning rate to 0.0004.\n",
      "Epoch 5/100\n",
      "6278/6278 [==============================] - 61s 10ms/step - loss: 0.0510 - precip_lossmse: 0.0504 - hr_lossmse: 0.0257 - val_loss: 0.0527 - val_precip_lossmse: 0.0531 - val_hr_lossmse: 0.0261 - lr: 4.0000e-04\n",
      "\n",
      "Epoch 6: LearningRateScheduler setting learning rate to 0.0004.\n",
      "Epoch 6/100\n",
      "6278/6278 [==============================] - 61s 10ms/step - loss: 0.0507 - precip_lossmse: 0.0499 - hr_lossmse: 0.0257 - val_loss: 0.0495 - val_precip_lossmse: 0.0469 - val_hr_lossmse: 0.0261 - lr: 4.0000e-04\n",
      "\n",
      "Epoch 7: LearningRateScheduler setting learning rate to 0.0004.\n",
      "Epoch 7/100\n",
      "6278/6278 [==============================] - 61s 10ms/step - loss: 0.0505 - precip_lossmse: 0.0496 - hr_lossmse: 0.0257 - val_loss: 0.0494 - val_precip_lossmse: 0.0468 - val_hr_lossmse: 0.0261 - lr: 4.0000e-04\n",
      "\n",
      "Epoch 8: LearningRateScheduler setting learning rate to 0.0004.\n",
      "Epoch 8/100\n",
      "6278/6278 [==============================] - 61s 10ms/step - loss: 0.0504 - precip_lossmse: 0.0494 - hr_lossmse: 0.0257 - val_loss: 0.0502 - val_precip_lossmse: 0.0482 - val_hr_lossmse: 0.0261 - lr: 4.0000e-04\n",
      "\n",
      "Epoch 9: LearningRateScheduler setting learning rate to 0.0004.\n",
      "Epoch 9/100\n",
      "1885/6278 [========>.....................] - ETA: 39s - loss: 0.0502 - precip_lossmse: 0.0489 - hr_lossmse: 0.0257"
     ]
    },
    {
     "ename": "KeyboardInterrupt",
     "evalue": "",
     "output_type": "error",
     "traceback": [
      "\u001b[0;31m---------------------------------------------------------------------------\u001b[0m",
      "\u001b[0;31mKeyboardInterrupt\u001b[0m                         Traceback (most recent call last)",
      "File \u001b[0;32m<timed exec>:1\u001b[0m, in \u001b[0;36m<module>\u001b[0;34m\u001b[0m\n",
      "File \u001b[0;32m/glade/work/sshamekh/opt/miniconda/envs/ml_pkgs/lib/python3.8/site-packages/keras/utils/traceback_utils.py:64\u001b[0m, in \u001b[0;36mfilter_traceback.<locals>.error_handler\u001b[0;34m(*args, **kwargs)\u001b[0m\n\u001b[1;32m     62\u001b[0m filtered_tb \u001b[38;5;241m=\u001b[39m \u001b[38;5;28;01mNone\u001b[39;00m\n\u001b[1;32m     63\u001b[0m \u001b[38;5;28;01mtry\u001b[39;00m:\n\u001b[0;32m---> 64\u001b[0m   \u001b[38;5;28;01mreturn\u001b[39;00m \u001b[43mfn\u001b[49m\u001b[43m(\u001b[49m\u001b[38;5;241;43m*\u001b[39;49m\u001b[43margs\u001b[49m\u001b[43m,\u001b[49m\u001b[43m \u001b[49m\u001b[38;5;241;43m*\u001b[39;49m\u001b[38;5;241;43m*\u001b[39;49m\u001b[43mkwargs\u001b[49m\u001b[43m)\u001b[49m\n\u001b[1;32m     65\u001b[0m \u001b[38;5;28;01mexcept\u001b[39;00m \u001b[38;5;167;01mException\u001b[39;00m \u001b[38;5;28;01mas\u001b[39;00m e:  \u001b[38;5;66;03m# pylint: disable=broad-except\u001b[39;00m\n\u001b[1;32m     66\u001b[0m   filtered_tb \u001b[38;5;241m=\u001b[39m _process_traceback_frames(e\u001b[38;5;241m.\u001b[39m__traceback__)\n",
      "File \u001b[0;32m/glade/work/sshamekh/opt/miniconda/envs/ml_pkgs/lib/python3.8/site-packages/keras/engine/training.py:1409\u001b[0m, in \u001b[0;36mModel.fit\u001b[0;34m(self, x, y, batch_size, epochs, verbose, callbacks, validation_split, validation_data, shuffle, class_weight, sample_weight, initial_epoch, steps_per_epoch, validation_steps, validation_batch_size, validation_freq, max_queue_size, workers, use_multiprocessing)\u001b[0m\n\u001b[1;32m   1402\u001b[0m \u001b[38;5;28;01mwith\u001b[39;00m tf\u001b[38;5;241m.\u001b[39mprofiler\u001b[38;5;241m.\u001b[39mexperimental\u001b[38;5;241m.\u001b[39mTrace(\n\u001b[1;32m   1403\u001b[0m     \u001b[38;5;124m'\u001b[39m\u001b[38;5;124mtrain\u001b[39m\u001b[38;5;124m'\u001b[39m,\n\u001b[1;32m   1404\u001b[0m     epoch_num\u001b[38;5;241m=\u001b[39mepoch,\n\u001b[1;32m   1405\u001b[0m     step_num\u001b[38;5;241m=\u001b[39mstep,\n\u001b[1;32m   1406\u001b[0m     batch_size\u001b[38;5;241m=\u001b[39mbatch_size,\n\u001b[1;32m   1407\u001b[0m     _r\u001b[38;5;241m=\u001b[39m\u001b[38;5;241m1\u001b[39m):\n\u001b[1;32m   1408\u001b[0m   callbacks\u001b[38;5;241m.\u001b[39mon_train_batch_begin(step)\n\u001b[0;32m-> 1409\u001b[0m   tmp_logs \u001b[38;5;241m=\u001b[39m \u001b[38;5;28;43mself\u001b[39;49m\u001b[38;5;241;43m.\u001b[39;49m\u001b[43mtrain_function\u001b[49m\u001b[43m(\u001b[49m\u001b[43miterator\u001b[49m\u001b[43m)\u001b[49m\n\u001b[1;32m   1410\u001b[0m   \u001b[38;5;28;01mif\u001b[39;00m data_handler\u001b[38;5;241m.\u001b[39mshould_sync:\n\u001b[1;32m   1411\u001b[0m     context\u001b[38;5;241m.\u001b[39masync_wait()\n",
      "File \u001b[0;32m/glade/work/sshamekh/opt/miniconda/envs/ml_pkgs/lib/python3.8/site-packages/tensorflow/python/util/traceback_utils.py:150\u001b[0m, in \u001b[0;36mfilter_traceback.<locals>.error_handler\u001b[0;34m(*args, **kwargs)\u001b[0m\n\u001b[1;32m    148\u001b[0m filtered_tb \u001b[38;5;241m=\u001b[39m \u001b[38;5;28;01mNone\u001b[39;00m\n\u001b[1;32m    149\u001b[0m \u001b[38;5;28;01mtry\u001b[39;00m:\n\u001b[0;32m--> 150\u001b[0m   \u001b[38;5;28;01mreturn\u001b[39;00m \u001b[43mfn\u001b[49m\u001b[43m(\u001b[49m\u001b[38;5;241;43m*\u001b[39;49m\u001b[43margs\u001b[49m\u001b[43m,\u001b[49m\u001b[43m \u001b[49m\u001b[38;5;241;43m*\u001b[39;49m\u001b[38;5;241;43m*\u001b[39;49m\u001b[43mkwargs\u001b[49m\u001b[43m)\u001b[49m\n\u001b[1;32m    151\u001b[0m \u001b[38;5;28;01mexcept\u001b[39;00m \u001b[38;5;167;01mException\u001b[39;00m \u001b[38;5;28;01mas\u001b[39;00m e:\n\u001b[1;32m    152\u001b[0m   filtered_tb \u001b[38;5;241m=\u001b[39m _process_traceback_frames(e\u001b[38;5;241m.\u001b[39m__traceback__)\n",
      "File \u001b[0;32m/glade/work/sshamekh/opt/miniconda/envs/ml_pkgs/lib/python3.8/site-packages/tensorflow/python/eager/def_function.py:915\u001b[0m, in \u001b[0;36mFunction.__call__\u001b[0;34m(self, *args, **kwds)\u001b[0m\n\u001b[1;32m    912\u001b[0m compiler \u001b[38;5;241m=\u001b[39m \u001b[38;5;124m\"\u001b[39m\u001b[38;5;124mxla\u001b[39m\u001b[38;5;124m\"\u001b[39m \u001b[38;5;28;01mif\u001b[39;00m \u001b[38;5;28mself\u001b[39m\u001b[38;5;241m.\u001b[39m_jit_compile \u001b[38;5;28;01melse\u001b[39;00m \u001b[38;5;124m\"\u001b[39m\u001b[38;5;124mnonXla\u001b[39m\u001b[38;5;124m\"\u001b[39m\n\u001b[1;32m    914\u001b[0m \u001b[38;5;28;01mwith\u001b[39;00m OptionalXlaContext(\u001b[38;5;28mself\u001b[39m\u001b[38;5;241m.\u001b[39m_jit_compile):\n\u001b[0;32m--> 915\u001b[0m   result \u001b[38;5;241m=\u001b[39m \u001b[38;5;28;43mself\u001b[39;49m\u001b[38;5;241;43m.\u001b[39;49m\u001b[43m_call\u001b[49m\u001b[43m(\u001b[49m\u001b[38;5;241;43m*\u001b[39;49m\u001b[43margs\u001b[49m\u001b[43m,\u001b[49m\u001b[43m \u001b[49m\u001b[38;5;241;43m*\u001b[39;49m\u001b[38;5;241;43m*\u001b[39;49m\u001b[43mkwds\u001b[49m\u001b[43m)\u001b[49m\n\u001b[1;32m    917\u001b[0m new_tracing_count \u001b[38;5;241m=\u001b[39m \u001b[38;5;28mself\u001b[39m\u001b[38;5;241m.\u001b[39mexperimental_get_tracing_count()\n\u001b[1;32m    918\u001b[0m without_tracing \u001b[38;5;241m=\u001b[39m (tracing_count \u001b[38;5;241m==\u001b[39m new_tracing_count)\n",
      "File \u001b[0;32m/glade/work/sshamekh/opt/miniconda/envs/ml_pkgs/lib/python3.8/site-packages/tensorflow/python/eager/def_function.py:947\u001b[0m, in \u001b[0;36mFunction._call\u001b[0;34m(self, *args, **kwds)\u001b[0m\n\u001b[1;32m    944\u001b[0m   \u001b[38;5;28mself\u001b[39m\u001b[38;5;241m.\u001b[39m_lock\u001b[38;5;241m.\u001b[39mrelease()\n\u001b[1;32m    945\u001b[0m   \u001b[38;5;66;03m# In this case we have created variables on the first call, so we run the\u001b[39;00m\n\u001b[1;32m    946\u001b[0m   \u001b[38;5;66;03m# defunned version which is guaranteed to never create variables.\u001b[39;00m\n\u001b[0;32m--> 947\u001b[0m   \u001b[38;5;28;01mreturn\u001b[39;00m \u001b[38;5;28;43mself\u001b[39;49m\u001b[38;5;241;43m.\u001b[39;49m\u001b[43m_stateless_fn\u001b[49m\u001b[43m(\u001b[49m\u001b[38;5;241;43m*\u001b[39;49m\u001b[43margs\u001b[49m\u001b[43m,\u001b[49m\u001b[43m \u001b[49m\u001b[38;5;241;43m*\u001b[39;49m\u001b[38;5;241;43m*\u001b[39;49m\u001b[43mkwds\u001b[49m\u001b[43m)\u001b[49m  \u001b[38;5;66;03m# pylint: disable=not-callable\u001b[39;00m\n\u001b[1;32m    948\u001b[0m \u001b[38;5;28;01melif\u001b[39;00m \u001b[38;5;28mself\u001b[39m\u001b[38;5;241m.\u001b[39m_stateful_fn \u001b[38;5;129;01mis\u001b[39;00m \u001b[38;5;129;01mnot\u001b[39;00m \u001b[38;5;28;01mNone\u001b[39;00m:\n\u001b[1;32m    949\u001b[0m   \u001b[38;5;66;03m# Release the lock early so that multiple threads can perform the call\u001b[39;00m\n\u001b[1;32m    950\u001b[0m   \u001b[38;5;66;03m# in parallel.\u001b[39;00m\n\u001b[1;32m    951\u001b[0m   \u001b[38;5;28mself\u001b[39m\u001b[38;5;241m.\u001b[39m_lock\u001b[38;5;241m.\u001b[39mrelease()\n",
      "File \u001b[0;32m/glade/work/sshamekh/opt/miniconda/envs/ml_pkgs/lib/python3.8/site-packages/tensorflow/python/eager/function.py:2453\u001b[0m, in \u001b[0;36mFunction.__call__\u001b[0;34m(self, *args, **kwargs)\u001b[0m\n\u001b[1;32m   2450\u001b[0m \u001b[38;5;28;01mwith\u001b[39;00m \u001b[38;5;28mself\u001b[39m\u001b[38;5;241m.\u001b[39m_lock:\n\u001b[1;32m   2451\u001b[0m   (graph_function,\n\u001b[1;32m   2452\u001b[0m    filtered_flat_args) \u001b[38;5;241m=\u001b[39m \u001b[38;5;28mself\u001b[39m\u001b[38;5;241m.\u001b[39m_maybe_define_function(args, kwargs)\n\u001b[0;32m-> 2453\u001b[0m \u001b[38;5;28;01mreturn\u001b[39;00m \u001b[43mgraph_function\u001b[49m\u001b[38;5;241;43m.\u001b[39;49m\u001b[43m_call_flat\u001b[49m\u001b[43m(\u001b[49m\n\u001b[1;32m   2454\u001b[0m \u001b[43m    \u001b[49m\u001b[43mfiltered_flat_args\u001b[49m\u001b[43m,\u001b[49m\u001b[43m \u001b[49m\u001b[43mcaptured_inputs\u001b[49m\u001b[38;5;241;43m=\u001b[39;49m\u001b[43mgraph_function\u001b[49m\u001b[38;5;241;43m.\u001b[39;49m\u001b[43mcaptured_inputs\u001b[49m\u001b[43m)\u001b[49m\n",
      "File \u001b[0;32m/glade/work/sshamekh/opt/miniconda/envs/ml_pkgs/lib/python3.8/site-packages/tensorflow/python/eager/function.py:1860\u001b[0m, in \u001b[0;36mConcreteFunction._call_flat\u001b[0;34m(self, args, captured_inputs, cancellation_manager)\u001b[0m\n\u001b[1;32m   1856\u001b[0m possible_gradient_type \u001b[38;5;241m=\u001b[39m gradients_util\u001b[38;5;241m.\u001b[39mPossibleTapeGradientTypes(args)\n\u001b[1;32m   1857\u001b[0m \u001b[38;5;28;01mif\u001b[39;00m (possible_gradient_type \u001b[38;5;241m==\u001b[39m gradients_util\u001b[38;5;241m.\u001b[39mPOSSIBLE_GRADIENT_TYPES_NONE\n\u001b[1;32m   1858\u001b[0m     \u001b[38;5;129;01mand\u001b[39;00m executing_eagerly):\n\u001b[1;32m   1859\u001b[0m   \u001b[38;5;66;03m# No tape is watching; skip to running the function.\u001b[39;00m\n\u001b[0;32m-> 1860\u001b[0m   \u001b[38;5;28;01mreturn\u001b[39;00m \u001b[38;5;28mself\u001b[39m\u001b[38;5;241m.\u001b[39m_build_call_outputs(\u001b[38;5;28;43mself\u001b[39;49m\u001b[38;5;241;43m.\u001b[39;49m\u001b[43m_inference_function\u001b[49m\u001b[38;5;241;43m.\u001b[39;49m\u001b[43mcall\u001b[49m\u001b[43m(\u001b[49m\n\u001b[1;32m   1861\u001b[0m \u001b[43m      \u001b[49m\u001b[43mctx\u001b[49m\u001b[43m,\u001b[49m\u001b[43m \u001b[49m\u001b[43margs\u001b[49m\u001b[43m,\u001b[49m\u001b[43m \u001b[49m\u001b[43mcancellation_manager\u001b[49m\u001b[38;5;241;43m=\u001b[39;49m\u001b[43mcancellation_manager\u001b[49m\u001b[43m)\u001b[49m)\n\u001b[1;32m   1862\u001b[0m forward_backward \u001b[38;5;241m=\u001b[39m \u001b[38;5;28mself\u001b[39m\u001b[38;5;241m.\u001b[39m_select_forward_and_backward_functions(\n\u001b[1;32m   1863\u001b[0m     args,\n\u001b[1;32m   1864\u001b[0m     possible_gradient_type,\n\u001b[1;32m   1865\u001b[0m     executing_eagerly)\n\u001b[1;32m   1866\u001b[0m forward_function, args_with_tangents \u001b[38;5;241m=\u001b[39m forward_backward\u001b[38;5;241m.\u001b[39mforward()\n",
      "File \u001b[0;32m/glade/work/sshamekh/opt/miniconda/envs/ml_pkgs/lib/python3.8/site-packages/tensorflow/python/eager/function.py:497\u001b[0m, in \u001b[0;36m_EagerDefinedFunction.call\u001b[0;34m(self, ctx, args, cancellation_manager)\u001b[0m\n\u001b[1;32m    495\u001b[0m \u001b[38;5;28;01mwith\u001b[39;00m _InterpolateFunctionError(\u001b[38;5;28mself\u001b[39m):\n\u001b[1;32m    496\u001b[0m   \u001b[38;5;28;01mif\u001b[39;00m cancellation_manager \u001b[38;5;129;01mis\u001b[39;00m \u001b[38;5;28;01mNone\u001b[39;00m:\n\u001b[0;32m--> 497\u001b[0m     outputs \u001b[38;5;241m=\u001b[39m \u001b[43mexecute\u001b[49m\u001b[38;5;241;43m.\u001b[39;49m\u001b[43mexecute\u001b[49m\u001b[43m(\u001b[49m\n\u001b[1;32m    498\u001b[0m \u001b[43m        \u001b[49m\u001b[38;5;28;43mstr\u001b[39;49m\u001b[43m(\u001b[49m\u001b[38;5;28;43mself\u001b[39;49m\u001b[38;5;241;43m.\u001b[39;49m\u001b[43msignature\u001b[49m\u001b[38;5;241;43m.\u001b[39;49m\u001b[43mname\u001b[49m\u001b[43m)\u001b[49m\u001b[43m,\u001b[49m\n\u001b[1;32m    499\u001b[0m \u001b[43m        \u001b[49m\u001b[43mnum_outputs\u001b[49m\u001b[38;5;241;43m=\u001b[39;49m\u001b[38;5;28;43mself\u001b[39;49m\u001b[38;5;241;43m.\u001b[39;49m\u001b[43m_num_outputs\u001b[49m\u001b[43m,\u001b[49m\n\u001b[1;32m    500\u001b[0m \u001b[43m        \u001b[49m\u001b[43minputs\u001b[49m\u001b[38;5;241;43m=\u001b[39;49m\u001b[43margs\u001b[49m\u001b[43m,\u001b[49m\n\u001b[1;32m    501\u001b[0m \u001b[43m        \u001b[49m\u001b[43mattrs\u001b[49m\u001b[38;5;241;43m=\u001b[39;49m\u001b[43mattrs\u001b[49m\u001b[43m,\u001b[49m\n\u001b[1;32m    502\u001b[0m \u001b[43m        \u001b[49m\u001b[43mctx\u001b[49m\u001b[38;5;241;43m=\u001b[39;49m\u001b[43mctx\u001b[49m\u001b[43m)\u001b[49m\n\u001b[1;32m    503\u001b[0m   \u001b[38;5;28;01melse\u001b[39;00m:\n\u001b[1;32m    504\u001b[0m     outputs \u001b[38;5;241m=\u001b[39m execute\u001b[38;5;241m.\u001b[39mexecute_with_cancellation(\n\u001b[1;32m    505\u001b[0m         \u001b[38;5;28mstr\u001b[39m(\u001b[38;5;28mself\u001b[39m\u001b[38;5;241m.\u001b[39msignature\u001b[38;5;241m.\u001b[39mname),\n\u001b[1;32m    506\u001b[0m         num_outputs\u001b[38;5;241m=\u001b[39m\u001b[38;5;28mself\u001b[39m\u001b[38;5;241m.\u001b[39m_num_outputs,\n\u001b[0;32m   (...)\u001b[0m\n\u001b[1;32m    509\u001b[0m         ctx\u001b[38;5;241m=\u001b[39mctx,\n\u001b[1;32m    510\u001b[0m         cancellation_manager\u001b[38;5;241m=\u001b[39mcancellation_manager)\n",
      "File \u001b[0;32m/glade/work/sshamekh/opt/miniconda/envs/ml_pkgs/lib/python3.8/site-packages/tensorflow/python/eager/execute.py:54\u001b[0m, in \u001b[0;36mquick_execute\u001b[0;34m(op_name, num_outputs, inputs, attrs, ctx, name)\u001b[0m\n\u001b[1;32m     52\u001b[0m \u001b[38;5;28;01mtry\u001b[39;00m:\n\u001b[1;32m     53\u001b[0m   ctx\u001b[38;5;241m.\u001b[39mensure_initialized()\n\u001b[0;32m---> 54\u001b[0m   tensors \u001b[38;5;241m=\u001b[39m \u001b[43mpywrap_tfe\u001b[49m\u001b[38;5;241;43m.\u001b[39;49m\u001b[43mTFE_Py_Execute\u001b[49m\u001b[43m(\u001b[49m\u001b[43mctx\u001b[49m\u001b[38;5;241;43m.\u001b[39;49m\u001b[43m_handle\u001b[49m\u001b[43m,\u001b[49m\u001b[43m \u001b[49m\u001b[43mdevice_name\u001b[49m\u001b[43m,\u001b[49m\u001b[43m \u001b[49m\u001b[43mop_name\u001b[49m\u001b[43m,\u001b[49m\n\u001b[1;32m     55\u001b[0m \u001b[43m                                      \u001b[49m\u001b[43minputs\u001b[49m\u001b[43m,\u001b[49m\u001b[43m \u001b[49m\u001b[43mattrs\u001b[49m\u001b[43m,\u001b[49m\u001b[43m \u001b[49m\u001b[43mnum_outputs\u001b[49m\u001b[43m)\u001b[49m\n\u001b[1;32m     56\u001b[0m \u001b[38;5;28;01mexcept\u001b[39;00m core\u001b[38;5;241m.\u001b[39m_NotOkStatusException \u001b[38;5;28;01mas\u001b[39;00m e:\n\u001b[1;32m     57\u001b[0m   \u001b[38;5;28;01mif\u001b[39;00m name \u001b[38;5;129;01mis\u001b[39;00m \u001b[38;5;129;01mnot\u001b[39;00m \u001b[38;5;28;01mNone\u001b[39;00m:\n",
      "\u001b[0;31mKeyboardInterrupt\u001b[0m: "
     ]
    }
   ],
   "source": [
    "%%time\n",
    "hist = vae.fit(\n",
    "        x=[x_train_hr,x_train_lg[:,:],y_train_lg],\n",
    "        epochs=100,\n",
    "        batch_size=128,\n",
    "        validation_split = 0.2,\n",
    "        callbacks= [earlyStopping,callback_lr],\n",
    "        shuffle = True\n",
    "    )"
   ]
  },
  {
   "cell_type": "code",
   "execution_count": 57,
   "metadata": {},
   "outputs": [
    {
     "data": {
      "text/plain": [
       "dict_keys(['loss', 'precip_loss', 'mse_precip_loss', 'precip_lossquntile', 'val_loss', 'val_precip_loss', 'val_mse_precip_loss', 'val_precip_lossquntile', 'lr'])"
      ]
     },
     "execution_count": 57,
     "metadata": {},
     "output_type": "execute_result"
    }
   ],
   "source": [
    "hist.history.keys()"
   ]
  },
  {
   "cell_type": "code",
   "execution_count": 85,
   "metadata": {},
   "outputs": [
    {
     "data": {
      "image/png": "[encoded data removed]",
      "text/plain": [
       "<Figure size 504x360 with 1 Axes>"
      ]
     },
     "metadata": {
      "needs_background": "light"
     },
     "output_type": "display_data"
    }
   ],
   "source": [
    "fig = plt.figure(figsize=[7,5])\n",
    "for ky in hist.history.keys():\n",
    "    if ky!='lr':\n",
    "        plt.plot(hist.history[ky][:],label = ky)\n",
    "\n",
    "plt.xlabel('Epoch')\n",
    "plt.ylabel('MSE')\n",
    "plt.legend()\n",
    "           \n",
    "plt.show()\n",
    "\n",
    "# fig.savefig('mse.jpeg',bbox_inches = 'tight',dpi = 100)"
   ]
  },
  {
   "cell_type": "code",
   "execution_count": 87,
   "metadata": {},
   "outputs": [
    {
     "data": {
      "text/plain": [
       "0.9010521819567765"
      ]
     },
     "execution_count": 87,
     "metadata": {},
     "output_type": "execute_result"
    }
   ],
   "source": [
    "from sklearn.metrics import r2_score\n",
    "\n",
    "# predict = vae.predict([10*pw_anomaly,x_lg[:,:],y_out])\n",
    "\n",
    "\n",
    "r2_score(y_out[:,0],predict[:])"
   ]
  },
  {
   "cell_type": "code",
   "execution_count": 74,
   "metadata": {},
   "outputs": [],
   "source": [
    "std_true = np.std(10*pw_anomaly,axis = (1,2))\n",
    "std_predict =np.std(predict[1],axis = (1,2))"
   ]
  },
  {
   "cell_type": "code",
   "execution_count": null,
   "metadata": {},
   "outputs": [],
   "source": []
  },
  {
   "cell_type": "code",
   "execution_count": 24,
   "metadata": {},
   "outputs": [
    {
     "name": "stdout",
     "output_type": "stream",
     "text": [
      "0.06410032 0.96307224 0.008989719152450561\n",
      "0.06410032 0.96307224 0.008989719152450561\n"
     ]
    }
   ],
   "source": [
    "import utils\n",
    "\n",
    "avg_pw_lg,avg_pred_lg,std_pw_lg,std_pred_lg = utils.bin_threshold(x_test_lg[:,0],(predict[:,0]),100)\n",
    "avg_pw,avg_pred_clt,std_pw_clt,std_pred_clt = utils.bin_threshold(x_test_lg[:,0],y_test_lg,100)\n"
   ]
  },
  {
   "cell_type": "code",
   "execution_count": 25,
   "metadata": {},
   "outputs": [
    {
     "data": {
      "image/png": "[encoded data removed]",
      "text/plain": [
       "<Figure size 504x360 with 1 Axes>"
      ]
     },
     "metadata": {
      "needs_background": "light"
     },
     "output_type": "display_data"
    }
   ],
   "source": [
    "fig = plt.figure(figsize=[7,5])\n",
    "\n",
    "\n",
    "plt.fill_between(np.array(avg_pw),np.array(avg_pred_clt)-np.array(std_pred_clt),\n",
    "                 np.array(avg_pred_clt)+np.array(std_pred_clt),alpha = 0.5,color = 'blue')\n",
    "plt.plot(np.array(avg_pw),avg_pred_clt,color = 'navy',linestyle = ':',label = 'True'\n",
    "        ,linewidth=3)\n",
    "plt.fill_between(np.array(avg_pw),np.array(avg_pred_lg)-np.array(std_pred_lg),\n",
    "                 np.array(avg_pred_lg)+np.array(std_pred_lg),alpha = 0.5,color='orange')\n",
    "plt.plot(np.array(avg_pw),avg_pred_lg,color = 'orange',linestyle = '-',label = 'predicted',linewidth=3)\n",
    "\n",
    "\n",
    "fn = 15\n",
    "plt.legend(loc = 2,fontsize =fn)\n",
    "plt.ylabel('Precipitation',fontsize = fn+2)\n",
    "\n",
    "plt.xlabel('PW-scaled',fontsize = fn+2)\n",
    "plt.xlim()\n",
    "# plt.ylim(-2,4)\n",
    "# plt.ylim(0.,3.5)\n",
    "# \n",
    "plt.tick_params(axis='both', which='major', labelsize=fn)\n",
    "\n",
    "# fig.savefig('precip_pw_32_2.jpeg')\n",
    "plt.show()"
   ]
  },
  {
   "cell_type": "markdown",
   "metadata": {},
   "source": [
    "### reconst =decode_zz.predict(z_predict)\n"
   ]
  },
  {
   "cell_type": "code",
   "execution_count": 21,
   "metadata": {},
   "outputs": [
    {
     "name": "stdout",
     "output_type": "stream",
     "text": [
      "WARNING:tensorflow:Compiled the loaded model, but the compiled metrics have yet to be built. `model.compile_metrics` will be empty until you train or evaluate the model.\n"
     ]
    },
    {
     "name": "stderr",
     "output_type": "stream",
     "text": [
      "2022-07-29 03:50:34.380834: W tensorflow/python/util/util.cc:368] Sets are not currently considered sequences, but this may change in the future, so consider avoiding using them.\n"
     ]
    },
    {
     "name": "stdout",
     "output_type": "stream",
     "text": [
      "INFO:tensorflow:Assets written to: encoder_2_24/assets\n",
      "INFO:tensorflow:Assets written to: vae_2_24/assets\n",
      "WARNING:tensorflow:Compiled the loaded model, but the compiled metrics have yet to be built. `model.compile_metrics` will be empty until you train or evaluate the model.\n",
      "INFO:tensorflow:Assets written to: precip_dense_vae_2_24/assets\n"
     ]
    }
   ],
   "source": [
    "np."
   ]
  },
  {
   "cell_type": "code",
   "execution_count": 96,
   "metadata": {},
   "outputs": [
    {
     "data": {
      "image/png": "[encoded data removed]",
      "text/plain": [
       "<Figure size 504x360 with 1 Axes>"
      ]
     },
     "metadata": {
      "needs_background": "light"
     },
     "output_type": "display_data"
    }
   ],
   "source": [
    "fn = 16\n",
    "fig = plt.figure(figsize=[7,5])\n",
    "_= plt.hist(4*y_out,bins = 100,alpha = 0.7,density = True,label = 'True')\n",
    "_= plt.hist((4*predict[:]),bins = 100,density = True,label = 'Predicted',alpha = 0.7)\n",
    "plt.tick_params(axis='both', which='major', labelsize=fn)\n",
    "plt.legend(fontsize = 16)\n",
    "plt.ylabel('Probability',fontsize = fn)\n",
    "plt.xlabel('Precipitation',fontsize = fn)\n",
    "plt.yscale('log')\n",
    "plt.xlim(0,20)\n",
    "fig.savefig('pdf_precip_MAE_loss.jpeg',bbox_inches = 'tight',dpi = 100)\n",
    "\n",
    "plt.show()"
   ]
  },
  {
   "cell_type": "code",
   "execution_count": 91,
   "metadata": {},
   "outputs": [
    {
     "name": "stdout",
     "output_type": "stream",
     "text": [
      "WARNING:tensorflow:Compiled the loaded model, but the compiled metrics have yet to be built. `model.compile_metrics` will be empty until you train or evaluate the model.\n"
     ]
    },
    {
     "name": "stderr",
     "output_type": "stream",
     "text": [
      "WARNING:tensorflow:Compiled the loaded model, but the compiled metrics have yet to be built. `model.compile_metrics` will be empty until you train or evaluate the model.\n",
      "WARNING:absl:Found untraced functions such as _jit_compiled_convolution_op, _jit_compiled_convolution_op, _jit_compiled_convolution_op while saving (showing 3 of 3). These functions will not be directly callable after loading.\n"
     ]
    },
    {
     "name": "stdout",
     "output_type": "stream",
     "text": [
      "INFO:tensorflow:Assets written to: encoder_4_32_mae_anomaly/assets\n"
     ]
    },
    {
     "name": "stderr",
     "output_type": "stream",
     "text": [
      "INFO:tensorflow:Assets written to: encoder_4_32_mae_anomaly/assets\n",
      "WARNING:absl:Found untraced functions such as _jit_compiled_convolution_op, _jit_compiled_convolution_op, _jit_compiled_convolution_op while saving (showing 3 of 3). These functions will not be directly callable after loading.\n"
     ]
    },
    {
     "name": "stdout",
     "output_type": "stream",
     "text": [
      "INFO:tensorflow:Assets written to: org_4_32_mae_4in_anomaly_v2/assets\n"
     ]
    },
    {
     "name": "stderr",
     "output_type": "stream",
     "text": [
      "INFO:tensorflow:Assets written to: org_4_32_mae_4in_anomaly_v2/assets\n"
     ]
    },
    {
     "name": "stdout",
     "output_type": "stream",
     "text": [
      "WARNING:tensorflow:Compiled the loaded model, but the compiled metrics have yet to be built. `model.compile_metrics` will be empty until you train or evaluate the model.\n"
     ]
    },
    {
     "name": "stderr",
     "output_type": "stream",
     "text": [
      "WARNING:tensorflow:Compiled the loaded model, but the compiled metrics have yet to be built. `model.compile_metrics` will be empty until you train or evaluate the model.\n"
     ]
    },
    {
     "name": "stdout",
     "output_type": "stream",
     "text": [
      "INFO:tensorflow:Assets written to: precip_dense_vae_4_32_mae_anomaly/assets\n"
     ]
    },
    {
     "name": "stderr",
     "output_type": "stream",
     "text": [
      "INFO:tensorflow:Assets written to: precip_dense_vae_4_32_mae_anomaly/assets\n"
     ]
    }
   ],
   "source": [
    "dataset =  np.concatenate((x_lg[:,:1],y_out,predict),axis = -1)\n",
    "dataset.dump('org_2_32_mse_6in_anomaly.npy')\n",
    "encoder_result.vae_encoder.save('encoder_2_32_mse_anomaly')\n",
    "decode_zz.save('decoder_2_32_mse_anomaly_v2')\n",
    "vae.save('org_2_32_mse_6in_anomaly_v2')\n",
    "precip_model.dense_nn.save('precip_dense_vae_2_32_mse_anomaly')\n"
   ]
  },
  {
   "cell_type": "code",
   "execution_count": null,
   "metadata": {},
   "outputs": [],
   "source": []
  },
  {
   "cell_type": "code",
   "execution_count": null,
   "metadata": {},
   "outputs": [],
   "source": []
  },
  {
   "cell_type": "code",
   "execution_count": null,
   "metadata": {},
   "outputs": [],
   "source": []
  },
  {
   "cell_type": "code",
   "execution_count": null,
   "metadata": {},
   "outputs": [],
   "source": []
  }
 ],
 "metadata": {
  "kernelspec": {
   "display_name": "Python [conda env:miniconda-ml_pkgs]",
   "language": "python",
   "name": "conda-env-miniconda-ml_pkgs-py"
  },
  "language_info": {
   "codemirror_mode": {
    "name": "ipython",
    "version": 3
   },
   "file_extension": ".py",
   "mimetype": "text/x-python",
   "name": "python",
   "nbconvert_exporter": "python",
   "pygments_lexer": "ipython3",
   "version": "3.8.13"
  }
 },
 "nbformat": 4,
 "nbformat_minor": 4
}
