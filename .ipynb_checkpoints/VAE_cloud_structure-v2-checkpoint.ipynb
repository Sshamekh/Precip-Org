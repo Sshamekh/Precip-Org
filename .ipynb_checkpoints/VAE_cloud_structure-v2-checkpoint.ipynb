{
 "cells": [
  {
   "cell_type": "code",
   "execution_count": 1,
   "metadata": {},
   "outputs": [
    {
     "name": "stderr",
     "output_type": "stream",
     "text": [
      "Using TensorFlow backend.\n"
     ]
    }
   ],
   "source": [
    "from utils_vae import read_field\n",
    "from netCDF4 import Dataset\n",
    "import numpy as np\n",
    "import matplotlib.pyplot as plt\n",
    "from tensorflow.keras import Model\n",
    "import tensorflow\n",
    "# import keras \n",
    "from tensorflow import keras\n",
    "from tensorflow.keras import layers\n",
    "from tensorflow.keras import backend as K\n",
    "from tensorflow.keras.models import Model\n",
    "from tensorflow.keras.losses import mse\n",
    "import sys, importlib\n",
    "\n",
    "from tensorflow.keras import backend as K\n",
    "from tensorflow.keras.callbacks import LearningRateScheduler\n",
    "from tensorflow.keras.utils import plot_model\n",
    "import tensorflow as tf\n",
    "\n",
    "from tensorflow.keras import regularizers\n",
    "from tensorflow.keras.layers import Input, Dense,Flatten \n",
    "from VAES import encoder_gen , dense_gen,encoder_dense,cloud_model,kl,schedule,decoder_dense\n",
    "import matplotlib.pyplot as plt\n"
   ]
  },
  {
   "cell_type": "code",
   "execution_count": 2,
   "metadata": {},
   "outputs": [
    {
     "name": "stdout",
     "output_type": "stream",
     "text": [
      "2.7.0\n"
     ]
    }
   ],
   "source": [
    "print(tensorflow.__version__)\n",
    "# importlib.reload(sys.modules['VAES'])\n",
    "from VAES import encoder_gen , dense_gen,encoder_dense,cloud_model,kl,schedule,decoder_dense"
   ]
  },
  {
   "cell_type": "code",
   "execution_count": 3,
   "metadata": {},
   "outputs": [],
   "source": [
    "import json"
   ]
  },
  {
   "cell_type": "code",
   "execution_count": 4,
   "metadata": {},
   "outputs": [],
   "source": [
    "path = \"/glade/scratch/sshamekh/dyamond/SAM_highres/\"\n"
   ]
  },
  {
   "cell_type": "markdown",
   "metadata": {},
   "source": [
    "SAM data: degree in longitude is constant as the radius changes. This means moving poleward, the models resolution increases. The latitudinal resolution has been reduced moving poleward in order for the models grid to stay close to square shape. Models resolution near the equator is about 4.3 and it reduces to 4.1 at 20 S/N. \n",
    "\n",
    "Now, to coarse grain the data, we approxmate models resolution to be 4.2 km in both lon lat direction. \n",
    "Then we decide the rescalaing size. This is our large scale, or GCM size grid. Here I represent it with largescale. "
   ]
  },
  {
   "cell_type": "code",
   "execution_count": 5,
   "metadata": {},
   "outputs": [
    {
     "name": "stdout",
     "output_type": "stream",
     "text": [
      "Reading high resolution input\n",
      "qvi\n",
      "no scaling\n",
      "(760, 32, 383, 24, 24, 1)\n",
      "Reading large-scale inputs\n",
      "qvi\n",
      "ts\n",
      "tas\n",
      "huss\n",
      "(760, 32, 383, 4)\n",
      "Reading large-scale outputs\n",
      "pracc\n",
      "(760, 32, 383, 1)\n",
      "[[[[0.20192672312259674]]]]\n",
      "nt, nlat, nlon, nxy, nxy, nv_hr: (760, 32, 383, 24, 24, 1)\n"
     ]
    }
   ],
   "source": [
    "# %%time\n",
    "import sys, importlib\n",
    "importlib.reload(sys.modules['utils_vae'])\n",
    "from utils_vae import train_test_data\n",
    "t1 = 0\n",
    "t2 = 8\n",
    "high_res = 4.0 # km \n",
    "large_scale = 96 #km\n",
    "dim = int(large_scale/high_res)\n",
    "\n",
    "x_hr,x_lg,y_out = train_test_data(path, high_res,large_scale,t1,t2,threshold_precip = 0.01)\n"
   ]
  },
  {
   "cell_type": "code",
   "execution_count": 7,
   "metadata": {},
   "outputs": [],
   "source": [
    "\n",
    "mask = np.random.rand(x_hr.shape[0])<0.8\n",
    "x_train_hr,x_test_hr = x_hr[mask,:],x_hr[~mask,:]\n",
    "x_train_lg,x_test_lg = x_lg[mask,:],x_lg[~mask,:]\n",
    "\n",
    "y_train_lg,y_test_lg = y_out[mask,:],y_out[~mask,:]"
   ]
  },
  {
   "cell_type": "code",
   "execution_count": 8,
   "metadata": {},
   "outputs": [],
   "source": [
    "# # Opening JSON file\n",
    "# with open('model_config05.json') as json_file:\n",
    "#     model_config = json.load(json_file)\n",
    "importlib.reload(sys.modules['VAES'])\n",
    "from VAES import encoder_gen , dense_gen,encoder_dense,cloud_model,kl,schedule,decoder_dense\n",
    "model_config = {'inshape': [4],\n",
    " 'configs_encoder': {'activation': 'relu',\n",
    "  'latent_dim': 4,\n",
    "  'conv_1': {'filter_num': 16, 'kernel_size': [4, 4], 'stride': 2},\n",
    "  'conv_2': {'filter_num': 16, 'kernel_size': [4, 4], 'stride': 2},\n",
    "  'conv_3': {'filter_num': 8, 'kernel_size': [4, 4], 'stride': 2},\n",
    "  'dense_1': {'unit_num': 128},\n",
    "  'dense_2': {'unit_num': 64},\n",
    "  'dense_3': {'unit_num': 32},\n",
    "  'dense_4': {'unit_num': 16},\n",
    "  'dense_5': {'activation': None}},\n",
    " 'config_decoder': {'latent_dim': 4,\n",
    "  'activation': 'relu',\n",
    "  'dense1': {'unit_num': 64},\n",
    "  'dense2': {'unit_num': 128},\n",
    "  'dense3': {'unit_num': 265},\n",
    "  'dense4': {'unit_num': 512},\n",
    "  'dense5': {'unit_num': dim**2}},\n",
    " 'config_dense': {'activation': 'relu',\n",
    "  'layer_1': {'unit_num': 128},\n",
    "  'layer_2': {'unit_num': 128},\n",
    "  'layer_3': {'unit_num': 128},\n",
    "  'layer_4': {'unit_num': 64},\n",
    "  'layer_5': {'unit_num': 2, 'activation': None}},\n",
    " 'config_cloudnn': {'activation': 'relu',\n",
    "  'layer_1': {'unit_num': 64},\n",
    "  'layer_2': {'unit_num': 64},\n",
    "  'layer_3': {'unit_num': 32},\n",
    "  'layer_4': {'unit_num': 16},\n",
    "  'layer_5': {'unit_num': 2, 'activation': None}}}"
   ]
  },
  {
   "cell_type": "code",
   "execution_count": 9,
   "metadata": {},
   "outputs": [],
   "source": [
    "class Loss_log_like( keras.layers.Layer ):\n",
    "    def __init__(self,name = None):\n",
    "        super(Loss_log_like,self).__init__(name= name)\n",
    "        self.loss_mse = tf.keras.losses.MeanSquaredError()\n",
    "    \n",
    "    def call(self,inputs , weights = 1):\n",
    "        n_dims = 1\n",
    "        ytrue,ypred = inputs['true'],inputs['pred']\n",
    "        mu = ypred[:, 0:n_dims]\n",
    "        logsigma = ypred[:, n_dims:]\n",
    "\n",
    "        mse = -0.5*K.sum(K.square((ytrue-mu)/K.exp(logsigma)),axis=1)\n",
    "        sigma_trace = -K.sum(logsigma, axis=1)\n",
    "        log2pi = -0.5*n_dims*np.log(2*np.pi)\n",
    "\n",
    "        log_likelihood = mse+sigma_trace+log2pi\n",
    "\n",
    "    \n",
    "        loss = K.mean(-log_likelihood)\n",
    "        self.add_loss(weights*loss)\n",
    "        \n",
    "        self.add_metric(loss,name = self.name)\n",
    "        self.add_metric(self.loss_mse(mu,ytrue),name = 'mse_'+self.name)## only for comparison\n",
    "        \n",
    "        \n",
    "        \n",
    "        \n",
    "        qs = [0.975, 0.995]\n",
    "        q = tf.constant(np.array([qs]), dtype=tf.float32)\n",
    "        error = ytrue - mu\n",
    "        val = tf.maximum(q*error, (q-1)*error)\n",
    "        lossq = K.mean(val)\n",
    "        \n",
    "        self.add_loss(2*lossq)\n",
    "        self.add_metric(lossq,name = self.name+'quntile')\n",
    "\n",
    "        return ypred\n",
    "    \n",
    "\n",
    "    \n",
    "class Loss_Simple( keras.layers.Layer ):\n",
    "    def __init__(self,name = None):\n",
    "        super(Loss_Simple,self).__init__(name= name)\n",
    "        self.loss_mse = tf.keras.losses.MeanSquaredError()\n",
    "    \n",
    "    def call(self,inputs , weights = 1):\n",
    "        n_dims = 1\n",
    "        ytrue,ypred = inputs['true'],inputs['pred']\n",
    "#         loss = self.loss_mse(ytrue,ypred)\n",
    "#         self.add_loss(weights*loss)\n",
    "#         self.add_metric(loss,name = self.name)\n",
    "        \n",
    "        qs = [0.005, 0.025, 0.165, 0.250, 0.500, 0.750, 0.835, 0.975, 0.995]\n",
    "        q = tf.constant(np.array([qs]), dtype=tf.float32)\n",
    "        error = ytrue - ypred\n",
    "        val = tf.maximum(q*error, (q-1)*error)\n",
    "        loss = K.mean(val)\n",
    "        \n",
    "        self.add_loss(weights*loss)\n",
    "        self.add_metric(loss,name = self.name)\n",
    "        \n",
    "        return ypred\n",
    "    \n",
    "\n",
    "class Loss_rotation_invariant( keras.layers.Layer ):\n",
    "    \n",
    "    def __init__(self,name = None):\n",
    "        super(Loss_rotation_invariant,self).__init__(name= name)\n",
    "        self.loss_mse = tf.keras.losses.MeanAbsoluteError()\n",
    "        self.lambda_weight = 0.1\n",
    "        \n",
    "    def tf_cov(self,x):\n",
    "            nx = 25\n",
    "            x = tf.reshape(x,(-1,nx*nx))\n",
    "            mean_x = tf.reduce_mean(x, axis=0, keepdims=True)\n",
    "            mx = tf.matmul(tf.transpose(mean_x), mean_x)\n",
    "            vx = tf.matmul(tf.transpose(x), x)/tf.cast(tf.shape(x)[0], tf.float32)\n",
    "            cov_xx = vx - mx\n",
    "            return cov_xx\n",
    "        \n",
    "        \n",
    "    def call (self,inputs, weights = 1):\n",
    "        # loss: reconstruction\n",
    "        y_true,y_pred = inputs['true'],inputs['pred']\n",
    "        \n",
    "        \n",
    "        loss = self.loss_mse(y_true,y_pred)\n",
    "        self.add_loss(weights * loss)\n",
    "        self.add_metric(loss,name = self.name)\n",
    "        \n",
    "        \n",
    "        ## loss: covariance of input output \n",
    "#         cov_compute = self.tf_cov\n",
    "#         covariance_truth =cov_compute(y_true)\n",
    "#         covariance_prediction = cov_compute(y_pred)\n",
    "#         Frobenius_norm = tf.norm(covariance_prediction-covariance_truth, ord=\"euclidean\")\n",
    "        \n",
    "                \n",
    "#         self.add_loss(weights*self.lambda_weight*Frobenius_norm)\n",
    "#         self.add_metric(weights*self.lambda_weight*Frobenius_norm,name = 'loss_std')\n",
    "        \n",
    "        \n",
    "        return y_pred"
   ]
  },
  {
   "cell_type": "code",
   "execution_count": 11,
   "metadata": {},
   "outputs": [
    {
     "name": "stdout",
     "output_type": "stream",
     "text": [
      "shape of input after padding (None, 24, 24, 1)\n",
      "shape after first convolutional layer (None, 13, 12, 16)\n",
      "shape after second convolutional layer (None, 7, 6, 16)\n",
      "shape before flattening (None, 4, 3, 8)\n",
      "shape after flattening (None, 4)\n",
      "shape at beginning of decoder (None, 576)\n",
      "shape after conv recon layer (None, 24, 24)\n",
      "output shape is:  (None, 16)\n",
      "output shape is:  (None, 2)\n",
      "KerasTensor(type_spec=TensorSpec(shape=(None, 4), dtype=tf.float32, name=None), name='model_1/xmean/BiasAdd:0', description=\"created by layer 'model_1'\") zz\n"
     ]
    }
   ],
   "source": [
    "coef = 1e1\n",
    "inshape = 4\n",
    "inshape_cloud = (inshape+model_config[\"configs_encoder\"]['latent_dim'],)\n",
    "inshape_precip = (inshape+model_config[\"configs_encoder\"]['latent_dim'],)\n",
    "\n",
    "## rotating data in batch while training \n",
    "data_augmentation = tf.keras.Sequential([\n",
    "  layers.experimental.preprocessing.RandomFlip(\"horizontal_and_vertical\"),\n",
    "    layers.experimental.preprocessing.RandomFlip(\"horizontal_and_vertical\"),\n",
    "#   layers.experimental.preprocessing.RandomRotation(1,fill_mode= 'wrap',\n",
    "#     interpolation='bilinear',\n",
    "# )\n",
    "])\n",
    "\n",
    "encoder_result = encoder_gen((dim, dim,1),model_config[\"configs_encoder\"])\n",
    "decode_zz = decoder_dense((dim, dim),model_config[\"config_decoder\"])\n",
    "\n",
    "clouds_cc = cloud_model(inshape_cloud,model_config[\"config_cloudnn\"])\n",
    "precip_model = dense_gen(inshape_precip,model_config[\"config_dense\"])\n",
    "\n",
    "inputhighres = tf.keras.layers.Input(shape=(dim, dim,1))\n",
    "# input_rotate = data_augmentation(inputhighres)\n",
    "inputdense = tf.keras.layers.Input(shape=(inshape,))\n",
    "\n",
    "\n",
    "precip_true = tf.keras.layers.Input(shape=(1,))\n",
    "cloud_true = tf.keras.layers.Input(shape=(1,))\n",
    "\n",
    "\n",
    "\n",
    "z_orig = encoder_result.vae_encoder(inputhighres)\n",
    "\n",
    "\n",
    "print (z_orig,'zz')\n",
    "\n",
    "# hr_reconst= decode_zz(z_orig)\n",
    "\n",
    "\n",
    "z_clt = tf.keras.layers.Concatenate(axis = -1)([z_orig,inputdense])\n",
    "cloud_cover = clouds_cc(z_clt)\n",
    "\n",
    "\n",
    "# cloud_p,_ = tf.split(cloud_cover,num_or_size_splits=2,axis = -1)\n",
    "# zz = tf.keras.layers.Concatenate(axis = -1)([z_orig,inputdense])\n",
    "\n",
    "precip = precip_model.dense_nn(z_clt)\n",
    "\n",
    "\n",
    "prec_pred  = Loss_log_like(name = 'precip_loss')({'true':precip_true,'pred':precip}, weights = 0.6)\n",
    "# cloud_pred = Loss_log_like(name = 'cld_loss'   )({'true':cloud_true,'pred':cloud_cover}, weights = 0.1)\n",
    "# hr_pred = Loss_rotation_invariant(name= 'hr_loss')({'true':inputhighres,'pred':hr_reconst\n",
    "#                                             }, weights = 0.3)\n",
    "                                                   \n",
    "\n",
    "vae = tf.keras.Model(inputs=[inputhighres,inputdense,precip_true],\n",
    "                     outputs=[prec_pred])\n",
    "\n",
    "optimizer = tensorflow.keras.optimizers.Adam(learning_rate=0.0004)\n",
    "callback_lr=LearningRateScheduler(schedule,verbose=1)\n",
    "earlyStopping=tensorflow.keras.callbacks.EarlyStopping(monitor='val_loss', patience=7, verbose=0, mode='auto')\n",
    "\n",
    "vae.compile(optimizer = optimizer)\n",
    "\n"
   ]
  },
  {
   "cell_type": "code",
   "execution_count": 12,
   "metadata": {
    "scrolled": true,
    "tags": []
   },
   "outputs": [
    {
     "name": "stdout",
     "output_type": "stream",
     "text": [
      "Epoch 1/100\n",
      "\n",
      "Epoch 00001: LearningRateScheduler setting learning rate to 0.0004.\n",
      "5636/5636 [==============================] - 34s 6ms/step - loss: -0.3763 - precip_loss: -0.7892 - mse_precip_loss: 0.0706 - precip_lossquntile: 0.0486 - val_loss: -0.4995 - val_precip_loss: -0.9265 - val_mse_precip_loss: 0.0561 - val_precip_lossquntile: 0.0282\n",
      "Epoch 2/100\n",
      "\n",
      "Epoch 00002: LearningRateScheduler setting learning rate to 0.0004.\n",
      "5636/5636 [==============================] - 32s 6ms/step - loss: -0.5950 - precip_loss: -1.1215 - mse_precip_loss: 0.0537 - precip_lossquntile: 0.0390 - val_loss: -0.5018 - val_precip_loss: -1.0736 - val_mse_precip_loss: 0.0404 - val_precip_lossquntile: 0.0712\n",
      "Epoch 3/100\n",
      "\n",
      "Epoch 00003: LearningRateScheduler setting learning rate to 0.0004.\n",
      "5636/5636 [==============================] - 32s 6ms/step - loss: -0.6732 - precip_loss: -1.2416 - mse_precip_loss: 0.0452 - precip_lossquntile: 0.0359 - val_loss: -0.6135 - val_precip_loss: -1.1986 - val_mse_precip_loss: 0.0334 - val_precip_lossquntile: 0.0528\n",
      "Epoch 4/100\n",
      "\n",
      "Epoch 00004: LearningRateScheduler setting learning rate to 0.0004.\n",
      "5636/5636 [==============================] - 32s 6ms/step - loss: -0.7182 - precip_loss: -1.3106 - mse_precip_loss: 0.0408 - precip_lossquntile: 0.0341 - val_loss: -0.7413 - val_precip_loss: -1.3193 - val_mse_precip_loss: 0.0406 - val_precip_lossquntile: 0.0251\n",
      "Epoch 5/100\n",
      "\n",
      "Epoch 00005: LearningRateScheduler setting learning rate to 0.0004.\n",
      "5636/5636 [==============================] - 32s 6ms/step - loss: -0.7386 - precip_loss: -1.3419 - mse_precip_loss: 0.0387 - precip_lossquntile: 0.0333 - val_loss: -0.7703 - val_precip_loss: -1.3915 - val_mse_precip_loss: 0.0310 - val_precip_lossquntile: 0.0323\n",
      "Epoch 6/100\n",
      "\n",
      "Epoch 00006: LearningRateScheduler setting learning rate to 0.0004.\n",
      "5636/5636 [==============================] - 32s 6ms/step - loss: -0.7578 - precip_loss: -1.3716 - mse_precip_loss: 0.0373 - precip_lossquntile: 0.0326 - val_loss: -0.7597 - val_precip_loss: -1.3509 - val_mse_precip_loss: 0.0334 - val_precip_lossquntile: 0.0254\n",
      "Epoch 7/100\n",
      "\n",
      "Epoch 00007: LearningRateScheduler setting learning rate to 0.0004.\n",
      "5636/5636 [==============================] - 32s 6ms/step - loss: -0.7692 - precip_loss: -1.3894 - mse_precip_loss: 0.0362 - precip_lossquntile: 0.0322 - val_loss: -0.7847 - val_precip_loss: -1.3867 - val_mse_precip_loss: 0.0385 - val_precip_lossquntile: 0.0237\n",
      "Epoch 8/100\n",
      "\n",
      "Epoch 00008: LearningRateScheduler setting learning rate to 0.0004.\n",
      "5636/5636 [==============================] - 32s 6ms/step - loss: -0.7843 - precip_loss: -1.4127 - mse_precip_loss: 0.0350 - precip_lossquntile: 0.0317 - val_loss: -0.7960 - val_precip_loss: -1.4395 - val_mse_precip_loss: 0.0260 - val_precip_lossquntile: 0.0339\n",
      "Epoch 9/100\n",
      "\n",
      "Epoch 00009: LearningRateScheduler setting learning rate to 0.0004.\n",
      "5636/5636 [==============================] - 32s 6ms/step - loss: -0.7939 - precip_loss: -1.4275 - mse_precip_loss: 0.0342 - precip_lossquntile: 0.0313 - val_loss: -0.8102 - val_precip_loss: -1.4692 - val_mse_precip_loss: 0.0249 - val_precip_lossquntile: 0.0357\n",
      "Epoch 10/100\n",
      "\n",
      "Epoch 00010: LearningRateScheduler setting learning rate to 0.0004.\n",
      "5636/5636 [==============================] - 32s 6ms/step - loss: -0.8039 - precip_loss: -1.4430 - mse_precip_loss: 0.0335 - precip_lossquntile: 0.0310 - val_loss: -0.7793 - val_precip_loss: -1.3634 - val_mse_precip_loss: 0.0418 - val_precip_lossquntile: 0.0194\n",
      "Epoch 11/100\n",
      "\n",
      "Epoch 00011: LearningRateScheduler setting learning rate to 0.0004.\n",
      "5636/5636 [==============================] - 32s 6ms/step - loss: -0.8085 - precip_loss: -1.4504 - mse_precip_loss: 0.0331 - precip_lossquntile: 0.0308 - val_loss: -0.7903 - val_precip_loss: -1.4495 - val_mse_precip_loss: 0.0251 - val_precip_lossquntile: 0.0397\n",
      "Epoch 12/100\n",
      "\n",
      "Epoch 00012: LearningRateScheduler setting learning rate to 0.0004.\n",
      "5636/5636 [==============================] - 32s 6ms/step - loss: -0.8130 - precip_loss: -1.4575 - mse_precip_loss: 0.0331 - precip_lossquntile: 0.0307 - val_loss: -0.7870 - val_precip_loss: -1.3900 - val_mse_precip_loss: 0.0319 - val_precip_lossquntile: 0.0235\n",
      "Epoch 13/100\n",
      "\n",
      "Epoch 00013: LearningRateScheduler setting learning rate to 0.0004.\n",
      "5636/5636 [==============================] - 32s 6ms/step - loss: -0.8207 - precip_loss: -1.4693 - mse_precip_loss: 0.0322 - precip_lossquntile: 0.0304 - val_loss: -0.7710 - val_precip_loss: -1.4274 - val_mse_precip_loss: 0.0248 - val_precip_lossquntile: 0.0427\n",
      "Epoch 14/100\n",
      "\n",
      "Epoch 00014: LearningRateScheduler setting learning rate to 0.0004.\n",
      "5636/5636 [==============================] - 33s 6ms/step - loss: -0.8273 - precip_loss: -1.4796 - mse_precip_loss: 0.0318 - precip_lossquntile: 0.0302 - val_loss: -0.8039 - val_precip_loss: -1.4628 - val_mse_precip_loss: 0.0243 - val_precip_lossquntile: 0.0369\n",
      "Epoch 15/100\n",
      "\n",
      "Epoch 00015: LearningRateScheduler setting learning rate to 0.0004.\n",
      "5636/5636 [==============================] - 33s 6ms/step - loss: -0.8306 - precip_loss: -1.4848 - mse_precip_loss: 0.0317 - precip_lossquntile: 0.0301 - val_loss: -0.7908 - val_precip_loss: -1.3805 - val_mse_precip_loss: 0.0357 - val_precip_lossquntile: 0.0188\n",
      "Epoch 16/100\n",
      "\n",
      "Epoch 00016: LearningRateScheduler setting learning rate to 0.0004.\n",
      "5636/5636 [==============================] - 32s 6ms/step - loss: -0.8310 - precip_loss: -1.4854 - mse_precip_loss: 0.0319 - precip_lossquntile: 0.0301 - val_loss: -0.8260 - val_precip_loss: -1.4937 - val_mse_precip_loss: 0.0238 - val_precip_lossquntile: 0.0351\n",
      "Epoch 17/100\n",
      "\n",
      "Epoch 00017: LearningRateScheduler setting learning rate to 0.0004.\n",
      "5636/5636 [==============================] - 32s 6ms/step - loss: -0.8368 - precip_loss: -1.4945 - mse_precip_loss: 0.0312 - precip_lossquntile: 0.0300 - val_loss: -0.8086 - val_precip_loss: -1.4758 - val_mse_precip_loss: 0.0235 - val_precip_lossquntile: 0.0384\n",
      "Epoch 18/100\n",
      "\n",
      "Epoch 00018: LearningRateScheduler setting learning rate to 0.0004.\n",
      "5636/5636 [==============================] - 32s 6ms/step - loss: -0.8407 - precip_loss: -1.5008 - mse_precip_loss: 0.0310 - precip_lossquntile: 0.0299 - val_loss: -0.7919 - val_precip_loss: -1.4623 - val_mse_precip_loss: 0.0238 - val_precip_lossquntile: 0.0427\n",
      "Epoch 19/100\n",
      "\n",
      "Epoch 00019: LearningRateScheduler setting learning rate to 0.0004.\n",
      "5636/5636 [==============================] - 32s 6ms/step - loss: -0.8444 - precip_loss: -1.5065 - mse_precip_loss: 0.0309 - precip_lossquntile: 0.0297 - val_loss: -0.8328 - val_precip_loss: -1.4768 - val_mse_precip_loss: 0.0264 - val_precip_lossquntile: 0.0267\n",
      "Epoch 20/100\n",
      "\n",
      "Epoch 00020: LearningRateScheduler setting learning rate to 0.0004.\n",
      "5636/5636 [==============================] - 32s 6ms/step - loss: -0.8451 - precip_loss: -1.5076 - mse_precip_loss: 0.0310 - precip_lossquntile: 0.0298 - val_loss: -0.8403 - val_precip_loss: -1.4847 - val_mse_precip_loss: 0.0280 - val_precip_lossquntile: 0.0252\n",
      "Epoch 21/100\n",
      "\n",
      "Epoch 00021: LearningRateScheduler setting learning rate to 0.0002.\n",
      "5636/5636 [==============================] - 32s 6ms/step - loss: -0.8801 - precip_loss: -1.5624 - mse_precip_loss: 0.0281 - precip_lossquntile: 0.0287 - val_loss: -0.8666 - val_precip_loss: -1.5363 - val_mse_precip_loss: 0.0257 - val_precip_lossquntile: 0.0276\n",
      "Epoch 22/100\n",
      "\n",
      "Epoch 00022: LearningRateScheduler setting learning rate to 0.0002.\n",
      "5636/5636 [==============================] - 32s 6ms/step - loss: -0.8821 - precip_loss: -1.5655 - mse_precip_loss: 0.0281 - precip_lossquntile: 0.0286 - val_loss: -0.8678 - val_precip_loss: -1.5287 - val_mse_precip_loss: 0.0298 - val_precip_lossquntile: 0.0247\n",
      "Epoch 23/100\n",
      "\n",
      "Epoch 00023: LearningRateScheduler setting learning rate to 0.0002.\n",
      "5636/5636 [==============================] - 32s 6ms/step - loss: -0.8858 - precip_loss: -1.5715 - mse_precip_loss: 0.0279 - precip_lossquntile: 0.0285 - val_loss: -0.8698 - val_precip_loss: -1.5418 - val_mse_precip_loss: 0.0247 - val_precip_lossquntile: 0.0277\n",
      "Epoch 24/100\n",
      "\n",
      "Epoch 00024: LearningRateScheduler setting learning rate to 0.0002.\n",
      "5636/5636 [==============================] - 32s 6ms/step - loss: -0.8885 - precip_loss: -1.5757 - mse_precip_loss: 0.0276 - precip_lossquntile: 0.0285 - val_loss: -0.8530 - val_precip_loss: -1.4950 - val_mse_precip_loss: 0.0297 - val_precip_lossquntile: 0.0220\n",
      "Epoch 25/100\n",
      "\n",
      "Epoch 00025: LearningRateScheduler setting learning rate to 0.0002.\n",
      "5636/5636 [==============================] - 32s 6ms/step - loss: -0.8912 - precip_loss: -1.5800 - mse_precip_loss: 0.0274 - precip_lossquntile: 0.0284 - val_loss: -0.8649 - val_precip_loss: -1.5172 - val_mse_precip_loss: 0.0291 - val_precip_lossquntile: 0.0227\n",
      "Epoch 26/100\n",
      "\n",
      "Epoch 00026: LearningRateScheduler setting learning rate to 0.0002.\n",
      "5636/5636 [==============================] - 32s 6ms/step - loss: -0.8931 - precip_loss: -1.5831 - mse_precip_loss: 0.0273 - precip_lossquntile: 0.0284 - val_loss: -0.8516 - val_precip_loss: -1.5411 - val_mse_precip_loss: 0.0224 - val_precip_lossquntile: 0.0365\n",
      "Epoch 27/100\n",
      "\n",
      "Epoch 00027: LearningRateScheduler setting learning rate to 0.0002.\n",
      "5636/5636 [==============================] - 33s 6ms/step - loss: -0.8942 - precip_loss: -1.5848 - mse_precip_loss: 0.0274 - precip_lossquntile: 0.0283 - val_loss: -0.8589 - val_precip_loss: -1.5585 - val_mse_precip_loss: 0.0227 - val_precip_lossquntile: 0.0381\n",
      "Epoch 28/100\n",
      "\n",
      "Epoch 00028: LearningRateScheduler setting learning rate to 0.0002.\n",
      "5636/5636 [==============================] - 33s 6ms/step - loss: -0.8951 - precip_loss: -1.5862 - mse_precip_loss: 0.0273 - precip_lossquntile: 0.0283 - val_loss: -0.8774 - val_precip_loss: -1.5556 - val_mse_precip_loss: 0.0250 - val_precip_lossquntile: 0.0280\n",
      "Epoch 29/100\n",
      "\n",
      "Epoch 00029: LearningRateScheduler setting learning rate to 0.0002.\n",
      "5636/5636 [==============================] - 33s 6ms/step - loss: -0.8975 - precip_loss: -1.5898 - mse_precip_loss: 0.0272 - precip_lossquntile: 0.0282 - val_loss: -0.8680 - val_precip_loss: -1.5322 - val_mse_precip_loss: 0.0262 - val_precip_lossquntile: 0.0257\n",
      "Epoch 30/100\n",
      "\n",
      "Epoch 00030: LearningRateScheduler setting learning rate to 0.0002.\n",
      "5636/5636 [==============================] - 33s 6ms/step - loss: -0.8980 - precip_loss: -1.5909 - mse_precip_loss: 0.0272 - precip_lossquntile: 0.0283 - val_loss: -0.8798 - val_precip_loss: -1.5742 - val_mse_precip_loss: 0.0226 - val_precip_lossquntile: 0.0323\n",
      "Epoch 31/100\n",
      "\n",
      "Epoch 00031: LearningRateScheduler setting learning rate to 0.0001.\n",
      "5636/5636 [==============================] - 33s 6ms/step - loss: -0.9164 - precip_loss: -1.6197 - mse_precip_loss: 0.0257 - precip_lossquntile: 0.0277 - val_loss: -0.8789 - val_precip_loss: -1.5382 - val_mse_precip_loss: 0.0296 - val_precip_lossquntile: 0.0220\n",
      "Epoch 32/100\n",
      "\n",
      "Epoch 00032: LearningRateScheduler setting learning rate to 0.0001.\n",
      "5636/5636 [==============================] - 33s 6ms/step - loss: -0.9172 - precip_loss: -1.6209 - mse_precip_loss: 0.0256 - precip_lossquntile: 0.0277 - val_loss: -0.8777 - val_precip_loss: -1.5516 - val_mse_precip_loss: 0.0251 - val_precip_lossquntile: 0.0266\n",
      "Epoch 33/100\n",
      "\n",
      "Epoch 00033: LearningRateScheduler setting learning rate to 0.0001.\n",
      "5636/5636 [==============================] - 33s 6ms/step - loss: -0.9193 - precip_loss: -1.6242 - mse_precip_loss: 0.0256 - precip_lossquntile: 0.0276 - val_loss: -0.8761 - val_precip_loss: -1.5705 - val_mse_precip_loss: 0.0228 - val_precip_lossquntile: 0.0331\n",
      "Epoch 34/100\n",
      "\n",
      "Epoch 00034: LearningRateScheduler setting learning rate to 0.0001.\n",
      "5636/5636 [==============================] - 33s 6ms/step - loss: -0.9197 - precip_loss: -1.6249 - mse_precip_loss: 0.0256 - precip_lossquntile: 0.0276 - val_loss: -0.8873 - val_precip_loss: -1.5902 - val_mse_precip_loss: 0.0220 - val_precip_lossquntile: 0.0334\n",
      "Epoch 35/100\n",
      "\n",
      "Epoch 00035: LearningRateScheduler setting learning rate to 0.0001.\n",
      "5636/5636 [==============================] - 34s 6ms/step - loss: -0.9204 - precip_loss: -1.6259 - mse_precip_loss: 0.0256 - precip_lossquntile: 0.0276 - val_loss: -0.8649 - val_precip_loss: -1.5124 - val_mse_precip_loss: 0.0293 - val_precip_lossquntile: 0.0213\n",
      "Epoch 36/100\n",
      "\n",
      "Epoch 00036: LearningRateScheduler setting learning rate to 0.0001.\n",
      "5636/5636 [==============================] - 34s 6ms/step - loss: -0.9209 - precip_loss: -1.6268 - mse_precip_loss: 0.0255 - precip_lossquntile: 0.0276 - val_loss: -0.8872 - val_precip_loss: -1.5660 - val_mse_precip_loss: 0.0263 - val_precip_lossquntile: 0.0262\n",
      "Epoch 37/100\n",
      "\n",
      "Epoch 00037: LearningRateScheduler setting learning rate to 0.0001.\n",
      "5636/5636 [==============================] - 34s 6ms/step - loss: -0.9224 - precip_loss: -1.6291 - mse_precip_loss: 0.0255 - precip_lossquntile: 0.0275 - val_loss: -0.8932 - val_precip_loss: -1.5777 - val_mse_precip_loss: 0.0246 - val_precip_lossquntile: 0.0267\n",
      "Epoch 38/100\n",
      "\n",
      "Epoch 00038: LearningRateScheduler setting learning rate to 0.0001.\n",
      "5636/5636 [==============================] - 34s 6ms/step - loss: -0.9233 - precip_loss: -1.6305 - mse_precip_loss: 0.0254 - precip_lossquntile: 0.0275 - val_loss: -0.8753 - val_precip_loss: -1.5348 - val_mse_precip_loss: 0.0267 - val_precip_lossquntile: 0.0228\n",
      "Epoch 39/100\n",
      "\n",
      "Epoch 00039: LearningRateScheduler setting learning rate to 0.0001.\n",
      "5636/5636 [==============================] - 35s 6ms/step - loss: -0.9234 - precip_loss: -1.6306 - mse_precip_loss: 0.0255 - precip_lossquntile: 0.0275 - val_loss: -0.8902 - val_precip_loss: -1.5824 - val_mse_precip_loss: 0.0228 - val_precip_lossquntile: 0.0296\n",
      "Epoch 40/100\n",
      "\n",
      "Epoch 00040: LearningRateScheduler setting learning rate to 0.0001.\n",
      "5636/5636 [==============================] - 34s 6ms/step - loss: -0.9243 - precip_loss: -1.6321 - mse_precip_loss: 0.0254 - precip_lossquntile: 0.0275 - val_loss: -0.8861 - val_precip_loss: -1.5826 - val_mse_precip_loss: 0.0221 - val_precip_lossquntile: 0.0317\n",
      "Epoch 41/100\n",
      "\n",
      "Epoch 00041: LearningRateScheduler setting learning rate to 0.0001.\n",
      "5636/5636 [==============================] - 34s 6ms/step - loss: -0.9254 - precip_loss: -1.6339 - mse_precip_loss: 0.0253 - precip_lossquntile: 0.0274 - val_loss: -0.8943 - val_precip_loss: -1.5718 - val_mse_precip_loss: 0.0266 - val_precip_lossquntile: 0.0244\n",
      "Epoch 42/100\n",
      "\n",
      "Epoch 00042: LearningRateScheduler setting learning rate to 0.0001.\n",
      "5636/5636 [==============================] - 34s 6ms/step - loss: -0.9261 - precip_loss: -1.6350 - mse_precip_loss: 0.0252 - precip_lossquntile: 0.0274 - val_loss: -0.8930 - val_precip_loss: -1.5664 - val_mse_precip_loss: 0.0265 - val_precip_lossquntile: 0.0234\n",
      "Epoch 43/100\n",
      "\n",
      "Epoch 00043: LearningRateScheduler setting learning rate to 0.0001.\n",
      "5636/5636 [==============================] - 34s 6ms/step - loss: -0.9264 - precip_loss: -1.6353 - mse_precip_loss: 0.0253 - precip_lossquntile: 0.0274 - val_loss: -0.8938 - val_precip_loss: -1.5914 - val_mse_precip_loss: 0.0225 - val_precip_lossquntile: 0.0305\n",
      "Epoch 44/100\n",
      "\n",
      "Epoch 00044: LearningRateScheduler setting learning rate to 0.0001.\n",
      "5636/5636 [==============================] - 34s 6ms/step - loss: -0.9271 - precip_loss: -1.6365 - mse_precip_loss: 0.0252 - precip_lossquntile: 0.0274 - val_loss: -0.8602 - val_precip_loss: -1.4950 - val_mse_precip_loss: 0.0337 - val_precip_lossquntile: 0.0184\n",
      "Epoch 45/100\n",
      "\n",
      "Epoch 00045: LearningRateScheduler setting learning rate to 0.0001.\n",
      "5636/5636 [==============================] - 35s 6ms/step - loss: -0.9284 - precip_loss: -1.6385 - mse_precip_loss: 0.0252 - precip_lossquntile: 0.0274 - val_loss: -0.8833 - val_precip_loss: -1.5502 - val_mse_precip_loss: 0.0261 - val_precip_lossquntile: 0.0234\n",
      "Epoch 46/100\n",
      "\n",
      "Epoch 00046: LearningRateScheduler setting learning rate to 0.0001.\n",
      "5636/5636 [==============================] - 36s 6ms/step - loss: -0.9281 - precip_loss: -1.6380 - mse_precip_loss: 0.0253 - precip_lossquntile: 0.0274 - val_loss: -0.8958 - val_precip_loss: -1.5820 - val_mse_precip_loss: 0.0238 - val_precip_lossquntile: 0.0267\n",
      "Epoch 47/100\n",
      "\n",
      "Epoch 00047: LearningRateScheduler setting learning rate to 0.0001.\n",
      "5636/5636 [==============================] - 36s 6ms/step - loss: -0.9289 - precip_loss: -1.6394 - mse_precip_loss: 0.0252 - precip_lossquntile: 0.0274 - val_loss: -0.8838 - val_precip_loss: -1.5847 - val_mse_precip_loss: 0.0220 - val_precip_lossquntile: 0.0335\n",
      "Epoch 48/100\n",
      "\n",
      "Epoch 00048: LearningRateScheduler setting learning rate to 0.0001.\n",
      "5636/5636 [==============================] - 36s 6ms/step - loss: -0.9298 - precip_loss: -1.6408 - mse_precip_loss: 0.0252 - precip_lossquntile: 0.0273 - val_loss: -0.8898 - val_precip_loss: -1.5587 - val_mse_precip_loss: 0.0282 - val_precip_lossquntile: 0.0227\n",
      "Epoch 49/100\n",
      "\n",
      "Epoch 00049: LearningRateScheduler setting learning rate to 0.0001.\n",
      "5636/5636 [==============================] - 35s 6ms/step - loss: -0.9302 - precip_loss: -1.6415 - mse_precip_loss: 0.0251 - precip_lossquntile: 0.0273 - val_loss: -0.8983 - val_precip_loss: -1.5746 - val_mse_precip_loss: 0.0270 - val_precip_lossquntile: 0.0233\n",
      "Epoch 50/100\n",
      "\n",
      "Epoch 00050: LearningRateScheduler setting learning rate to 0.0001.\n",
      "5636/5636 [==============================] - 35s 6ms/step - loss: -0.9307 - precip_loss: -1.6421 - mse_precip_loss: 0.0251 - precip_lossquntile: 0.0273 - val_loss: -0.8907 - val_precip_loss: -1.5921 - val_mse_precip_loss: 0.0217 - val_precip_lossquntile: 0.0323\n",
      "Epoch 51/100\n",
      "\n",
      "Epoch 00051: LearningRateScheduler setting learning rate to 7e-05.\n",
      "5636/5636 [==============================] - 35s 6ms/step - loss: -0.9367 - precip_loss: -1.6516 - mse_precip_loss: 0.0246 - precip_lossquntile: 0.0271 - val_loss: -0.8953 - val_precip_loss: -1.5713 - val_mse_precip_loss: 0.0260 - val_precip_lossquntile: 0.0238\n",
      "Epoch 52/100\n",
      "\n",
      "Epoch 00052: LearningRateScheduler setting learning rate to 7e-05.\n",
      "5636/5636 [==============================] - 34s 6ms/step - loss: -0.9370 - precip_loss: -1.6521 - mse_precip_loss: 0.0247 - precip_lossquntile: 0.0271 - val_loss: -0.8853 - val_precip_loss: -1.5931 - val_mse_precip_loss: 0.0217 - val_precip_lossquntile: 0.0353\n",
      "Epoch 53/100\n",
      "\n",
      "Epoch 00053: LearningRateScheduler setting learning rate to 7e-05.\n",
      "5636/5636 [==============================] - 34s 6ms/step - loss: -0.9377 - precip_loss: -1.6532 - mse_precip_loss: 0.0246 - precip_lossquntile: 0.0271 - val_loss: -0.8995 - val_precip_loss: -1.5912 - val_mse_precip_loss: 0.0242 - val_precip_lossquntile: 0.0276\n",
      "Epoch 54/100\n",
      "\n",
      "Epoch 00054: LearningRateScheduler setting learning rate to 7e-05.\n",
      "5636/5636 [==============================] - 34s 6ms/step - loss: -0.9381 - precip_loss: -1.6538 - mse_precip_loss: 0.0246 - precip_lossquntile: 0.0271 - val_loss: -0.9014 - val_precip_loss: -1.5927 - val_mse_precip_loss: 0.0239 - val_precip_lossquntile: 0.0271\n",
      "Epoch 55/100\n",
      "\n",
      "Epoch 00055: LearningRateScheduler setting learning rate to 7e-05.\n",
      "5636/5636 [==============================] - 34s 6ms/step - loss: -0.9378 - precip_loss: -1.6532 - mse_precip_loss: 0.0246 - precip_lossquntile: 0.0271 - val_loss: -0.8751 - val_precip_loss: -1.5236 - val_mse_precip_loss: 0.0314 - val_precip_lossquntile: 0.0196\n",
      "Epoch 56/100\n",
      "\n",
      "Epoch 00056: LearningRateScheduler setting learning rate to 7e-05.\n",
      "5636/5636 [==============================] - 34s 6ms/step - loss: -0.9386 - precip_loss: -1.6547 - mse_precip_loss: 0.0246 - precip_lossquntile: 0.0271 - val_loss: -0.8995 - val_precip_loss: -1.5942 - val_mse_precip_loss: 0.0236 - val_precip_lossquntile: 0.0285\n",
      "Epoch 57/100\n",
      "\n",
      "Epoch 00057: LearningRateScheduler setting learning rate to 7e-05.\n",
      "5636/5636 [==============================] - 34s 6ms/step - loss: -0.9392 - precip_loss: -1.6555 - mse_precip_loss: 0.0246 - precip_lossquntile: 0.0271 - val_loss: -0.9011 - val_precip_loss: -1.5927 - val_mse_precip_loss: 0.0238 - val_precip_lossquntile: 0.0273\n",
      "Epoch 58/100\n",
      "\n",
      "Epoch 00058: LearningRateScheduler setting learning rate to 7e-05.\n",
      "5636/5636 [==============================] - 35s 6ms/step - loss: -0.9397 - precip_loss: -1.6564 - mse_precip_loss: 0.0245 - precip_lossquntile: 0.0271 - val_loss: -0.8868 - val_precip_loss: -1.5529 - val_mse_precip_loss: 0.0265 - val_precip_lossquntile: 0.0225\n",
      "Epoch 59/100\n",
      "\n",
      "Epoch 00059: LearningRateScheduler setting learning rate to 7e-05.\n",
      "5636/5636 [==============================] - 35s 6ms/step - loss: -0.9397 - precip_loss: -1.6564 - mse_precip_loss: 0.0245 - precip_lossquntile: 0.0270 - val_loss: -0.8764 - val_precip_loss: -1.5860 - val_mse_precip_loss: 0.0214 - val_precip_lossquntile: 0.0376\n",
      "Epoch 60/100\n",
      "\n",
      "Epoch 00060: LearningRateScheduler setting learning rate to 7e-05.\n",
      "5636/5636 [==============================] - 35s 6ms/step - loss: -0.9402 - precip_loss: -1.6572 - mse_precip_loss: 0.0245 - precip_lossquntile: 0.0270 - val_loss: -0.8591 - val_precip_loss: -1.5608 - val_mse_precip_loss: 0.0214 - val_precip_lossquntile: 0.0387\n",
      "Epoch 61/100\n",
      "\n",
      "Epoch 00061: LearningRateScheduler setting learning rate to 7e-05.\n",
      "5636/5636 [==============================] - 35s 6ms/step - loss: -0.9417 - precip_loss: -1.6596 - mse_precip_loss: 0.0244 - precip_lossquntile: 0.0270 - val_loss: -0.8957 - val_precip_loss: -1.5809 - val_mse_precip_loss: 0.0236 - val_precip_lossquntile: 0.0264\n",
      "CPU times: user 13h 25min 26s, sys: 56min 43s, total: 14h 22min 10s\n",
      "Wall time: 33min 58s\n"
     ]
    }
   ],
   "source": [
    "%%time\n",
    "hist = vae.fit(\n",
    "        x=[x_train_hr,x_train_lg,y_train_lg],\n",
    "        epochs=100,\n",
    "        batch_size=256,\n",
    "        validation_split = 0.3,\n",
    "        callbacks= [earlyStopping,callback_lr],\n",
    "        shuffle = True\n",
    "    )"
   ]
  },
  {
   "cell_type": "code",
   "execution_count": 13,
   "metadata": {},
   "outputs": [
    {
     "data": {
      "image/png": "[encoded data removed]",
      "text/plain": [
       "<Figure size 432x288 with 1 Axes>"
      ]
     },
     "metadata": {
      "needs_background": "light"
     },
     "output_type": "display_data"
    }
   ],
   "source": [
    "plt.plot(hist.history['loss'][1:])\n",
    "plt.plot(hist.history['val_loss'][1:])\n",
    "plt.show()\n"
   ]
  },
  {
   "cell_type": "code",
   "execution_count": 14,
   "metadata": {},
   "outputs": [],
   "source": [
    "\n",
    "predict_2 = vae.predict([x_test_hr,x_test_lg,y_test_lg])\n",
    "\n",
    "\n"
   ]
  },
  {
   "cell_type": "code",
   "execution_count": 15,
   "metadata": {},
   "outputs": [
    {
     "data": {
      "text/plain": [
       "0.8182097336884366"
      ]
     },
     "execution_count": 15,
     "metadata": {},
     "output_type": "execute_result"
    }
   ],
   "source": [
    "from sklearn.metrics import r2_score\n",
    "r2_score(predict_2[:,0],y_test_lg)"
   ]
  },
  {
   "cell_type": "code",
   "execution_count": 16,
   "metadata": {},
   "outputs": [
    {
     "name": "stdout",
     "output_type": "stream",
     "text": [
      "0.059777066 0.97570217 0.009159250855445862\n",
      "0.059777066 0.97570217 0.009159250855445862\n"
     ]
    }
   ],
   "source": [
    "import utils\n",
    "\n",
    "avg_pw_lg,avg_pred_lg,std_pw_lg,std_pred_lg = utils.bin_threshold(x_test_lg[:,0],(predict_2[:,0]),100)\n",
    "avg_pw,avg_pred_clt,std_pw_clt,std_pred_clt = utils.bin_threshold(x_test_lg[:,0],y_test_lg,100)\n"
   ]
  },
  {
   "cell_type": "code",
   "execution_count": 17,
   "metadata": {},
   "outputs": [
    {
     "data": {
      "image/png": "[encoded data removed]",
      "text/plain": [
       "<Figure size 504x360 with 1 Axes>"
      ]
     },
     "metadata": {
      "needs_background": "light"
     },
     "output_type": "display_data"
    }
   ],
   "source": [
    "fig = plt.figure(figsize=[7,5])\n",
    "\n",
    "\n",
    "plt.fill_between(np.array(avg_pw),np.array(avg_pred_clt)-np.array(std_pred_clt),\n",
    "                 np.array(avg_pred_clt)+np.array(std_pred_clt),alpha = 0.5,color = 'blue')\n",
    "plt.plot(np.array(avg_pw),avg_pred_clt,color = 'navy',linestyle = ':',label = 'True'\n",
    "        ,linewidth=3)\n",
    "plt.fill_between(np.array(avg_pw),np.array(avg_pred_lg)-np.array(std_pred_lg),\n",
    "                 np.array(avg_pred_lg)+np.array(std_pred_lg),alpha = 0.5,color='orange')\n",
    "plt.plot(np.array(avg_pw),avg_pred_lg,color = 'orange',linestyle = '-',label = 'predicted',linewidth=3)\n",
    "\n",
    "\n",
    "\n",
    "# plt.fill_between(np.array(avg_pw),(np.array(avg_pred)-np.array(std_pred)),\n",
    "#                  (np.array(avg_pred)+np.array(std_pred)),alpha = 0.5,color='green')\n",
    "# plt.plot(np.array(avg_pw),np.array(avg_pred),color = 'green',linestyle = '-.',label = 'Prediction'\n",
    "#         ,linewidth=3)\n",
    "fn = 13\n",
    "plt.legend(loc = 2,fontsize =fn)\n",
    "plt.ylabel('Precipitation',fontsize = fn+2)\n",
    "\n",
    "plt.xlabel('PW-scaled',fontsize = fn+2)\n",
    "plt.xlim()\n",
    "# plt.ylim(-2,4)\n",
    "plt.ylim(0.,3.5)\n",
    "# \n",
    "plt.tick_params(axis='both', which='major', labelsize=fn)\n",
    "\n",
    "# fig.savefig('precip_pw_32_2.jpeg')\n",
    "plt.show()"
   ]
  },
  {
   "cell_type": "code",
   "execution_count": 18,
   "metadata": {},
   "outputs": [],
   "source": [
    "z_predict = encoder_result.vae_encoder.predict(x_test_hr)\n"
   ]
  },
  {
   "cell_type": "code",
   "execution_count": 19,
   "metadata": {},
   "outputs": [
    {
     "data": {
      "image/png": "[encoded data removed]",
      "text/plain": [
       "<Figure size 360x360 with 1 Axes>"
      ]
     },
     "metadata": {
      "needs_background": "light"
     },
     "output_type": "display_data"
    }
   ],
   "source": [
    "fig = plt.figure(figsize=[5,5])\n",
    "plt.scatter(z_predict[:,0],z_predict[:,2])\n",
    "plt.xlabel('zl_1',fontsize = 16)\n",
    "plt.ylabel('zl_2',fontsize = 16)\n",
    "plt.show()\n",
    "# z_predict.shape,z_predict_r.shape"
   ]
  },
  {
   "cell_type": "markdown",
   "metadata": {},
   "source": [
    "### reconst =decode_zz.predict(z_predict)\n"
   ]
  },
  {
   "cell_type": "code",
   "execution_count": null,
   "metadata": {},
   "outputs": [],
   "source": []
  },
  {
   "cell_type": "code",
   "execution_count": null,
   "metadata": {},
   "outputs": [],
   "source": [
    "# encoder_result.vae_encoder= keras.models.load_model('encoder_06')\n",
    "# precip_model.dense_nn= keras.models.load_model('precip_dense_vae_06')\n",
    "# clouds_cc= keras.models.load_model('cloud_dense_06')\n",
    "# decode_zz= keras.models.load_model('decoder_06')\n",
    "\n",
    "# vae=keras.models.load_model('vae_nn_06')"
   ]
  },
  {
   "cell_type": "code",
   "execution_count": null,
   "metadata": {},
   "outputs": [
    {
     "name": "stdout",
     "output_type": "stream",
     "text": [
      "WARNING:tensorflow:Compiled the loaded model, but the compiled metrics have yet to be built. `model.compile_metrics` will be empty until you train or evaluate the model.\n"
     ]
    },
    {
     "name": "stderr",
     "output_type": "stream",
     "text": [
      "2022-06-08 07:59:07.699899: W tensorflow/python/util/util.cc:368] Sets are not currently considered sequences, but this may change in the future, so consider avoiding using them.\n"
     ]
    },
    {
     "name": "stdout",
     "output_type": "stream",
     "text": [
      "INFO:tensorflow:Assets written to: encoder_4_24/assets\n",
      "WARNING:tensorflow:Compiled the loaded model, but the compiled metrics have yet to be built. `model.compile_metrics` will be empty until you train or evaluate the model.\n"
     ]
    }
   ],
   "source": [
    "encoder_result.vae_encoder.save('encoder_4_24')\n",
    "precip_model.dense_nn.save('precip_dense_vae_4_24')\n",
    "# # clouds_cc.save('cloud_dense_2_32')\n",
    "# # decode_zz.save('decoder_4_32')\n",
    "\n",
    "vae.save('vae_nn_4_24')\n",
    "# # nn_precip_clt_lg.save('nn_dense_lg_03')\n",
    "# # tf.keras.models.save_model('encoder_2_32',encoder_result.vae_encoder)\n"
   ]
  },
  {
   "cell_type": "code",
   "execution_count": 21,
   "metadata": {},
   "outputs": [
    {
     "data": {
      "image/png": "[encoded data removed]",
      "text/plain": [
       "<Figure size 504x360 with 1 Axes>"
      ]
     },
     "metadata": {
      "needs_background": "light"
     },
     "output_type": "display_data"
    }
   ],
   "source": [
    "fn = 16\n",
    "fig = plt.figure(figsize=[7,5])\n",
    "_= plt.hist(y_test_lg,bins = 100,alpha = 0.7,density = True,label = 'True')\n",
    "_= plt.hist((predict_2[:,0]),bins = 100,density = True,label = 'Predicted',alpha = 0.7)\n",
    "plt.tick_params(axis='both', which='major', labelsize=fn)\n",
    "plt.legend()\n",
    "plt.ylabel('Probability',fontsize = fn)\n",
    "plt.xlabel('Precipitation',fontsize = fn)\n",
    "plt.yscale('log')\n",
    "fig.savefig('pdf_precip.jpeg',bbox_inches = 'tight',dpi = 100)\n",
    "plt.show()"
   ]
  },
  {
   "cell_type": "code",
   "execution_count": null,
   "metadata": {},
   "outputs": [],
   "source": []
  }
 ],
 "metadata": {
  "kernelspec": {
   "display_name": "Python [conda env:miniconda-ml_pkgs]",
   "language": "python",
   "name": "conda-env-miniconda-ml_pkgs-py"
  },
  "language_info": {
   "codemirror_mode": {
    "name": "ipython",
    "version": 3
   },
   "file_extension": ".py",
   "mimetype": "text/x-python",
   "name": "python",
   "nbconvert_exporter": "python",
   "pygments_lexer": "ipython3",
   "version": "3.8.13"
  }
 },
 "nbformat": 4,
 "nbformat_minor": 4
}
