{
 "cells": [
  {
   "cell_type": "code",
   "execution_count": 76,
   "metadata": {},
   "outputs": [],
   "source": [
    "'''Metoffice data: \n",
    "the resolution in degree is constant so the resolution in km\n",
    "decreases in longitudinal direction. At the equator, the lat (called y) \n",
    "resolution is 5.18 km and 7.827 km in longitude (called x). Data shape is (time, y, x)\n",
    "'''\n",
    "\n",
    "from netCDF4 import Dataset\n",
    "import numpy as np\n",
    "import time\n",
    "import math\n",
    "import xarray as xr \n",
    "from os import listdir\n",
    "from os.path import isfile, join"
   ]
  },
  {
   "cell_type": "code",
   "execution_count": 78,
   "metadata": {},
   "outputs": [
    {
     "data": {
      "text/plain": [
       "(100.0, 120.0, -19.991936, -0.019778274)"
      ]
     },
     "execution_count": 78,
     "metadata": {},
     "output_type": "execute_result"
    }
   ],
   "source": [
    "\n",
    "dsmet = Dataset('/media/sara/LaCie/DYAMOND/allfields_sam/qsolebig.nc')\n",
    "lat = dsmet.variables['lat'][:]\n",
    "lon = dsmet.variables['lon'][:]\n",
    "pw = dsmet.variables['qsol'][0,:,:]\n",
    "lon[0],lon[-1],lat[0],lat[-1]"
   ]
  },
  {
   "cell_type": "code",
   "execution_count": 77,
   "metadata": {},
   "outputs": [
    {
     "name": "stdout",
     "output_type": "stream",
     "text": [
      "cape.nc\n",
      "/media/sara/LaCie/DYAMOND/allfields_sam/cape.nc\n",
      "capebig.nc\n",
      "/media/sara/LaCie/DYAMOND/allfields_sam/capebig.nc\n",
      "cape_2.nc\n",
      "/media/sara/LaCie/DYAMOND/allfields_sam/cape_2.nc\n",
      "qsolebig.nc\n",
      "/media/sara/LaCie/DYAMOND/allfields_sam/qsolebig.nc\n",
      "qsoletropics.nc\n",
      "/media/sara/LaCie/DYAMOND/allfields_sam/qsoletropics.nc\n"
     ]
    },
    {
     "data": {
      "text/plain": [
       "(-0.09790322, 523)"
      ]
     },
     "execution_count": 77,
     "metadata": {},
     "output_type": "execute_result"
    }
   ],
   "source": [
    "#read file \n",
    "\n",
    "dir1 = '/media/sara/LaCie/DYAMOND/allfields_sam/'\n",
    "dir2 = 'bbb'\n",
    "variables = ['']\n",
    "for var in variables:\n",
    "    address = dir1+var\n",
    "\n",
    "    for f in listdir(address): \n",
    "        print (f)\n",
    "        print (address + f )\n",
    "\n",
    "\n",
    "ds = xr.open_dataset('/media/sara/LaCie/DYAMOND/metof/pwr_last.nc')\n",
    "# var = 'prw'\n",
    "lat[520],len(lat)"
   ]
  },
  {
   "cell_type": "code",
   "execution_count": 42,
   "metadata": {},
   "outputs": [],
   "source": [
    "min_lon = 145\n",
    "min_lat = -20\n",
    "max_lon = 270\n",
    "max_lat = 20\n",
    "mask_lon = (ds.longitude >= min_lon) & (ds.longitude <= max_lon)\n",
    "mask_lat = (ds.latitude >= min_lat) & (ds.latitude <= max_lat)"
   ]
  },
  {
   "cell_type": "code",
   "execution_count": 44,
   "metadata": {},
   "outputs": [],
   "source": [
    "cropped_ds = ds.where(mask_lon & mask_lat, drop = True)\n",
    "crp = np.array(cropped_ds['prw'])"
   ]
  },
  {
   "cell_type": "code",
   "execution_count": 105,
   "metadata": {},
   "outputs": [
    {
     "data": {
      "text/plain": [
       "-0.131303610142332"
      ]
     },
     "execution_count": 105,
     "metadata": {},
     "output_type": "execute_result"
    }
   ],
   "source": [
    "(96*96 -103*103)/(103*103)"
   ]
  },
  {
   "cell_type": "code",
   "execution_count": 3,
   "metadata": {},
   "outputs": [],
   "source": [
    "degree_y = lat[1]-lat[0]\n",
    "degree_x = lon[1]-lon[0]\n",
    "y_resolution = degree_y*110.574\n",
    "x_resolution = degree_x*111.320\n",
    "\n",
    "nt, ny,nx = pw.shape\n",
    "\n",
    "new_resoltion = [100,200] # in km\n",
    "regriding_x = [24,48]\n",
    "regriding_y = [24,48]\n",
    "case = 1\n",
    "new_ny = [int(ny/regriding_y[case]),int(ny/regriding_y[case])]\n",
    "new_nx = [int(nx/regriding_x[case]),int(nx/regriding_x[case])]\n",
    "newdata = pw[:,:new_ny[case]*regriding_y[case],:new_nx[case]*regriding_x[case]]\n",
    "newdata = np.mean(np.reshape(newdata,(nt,new_ny[case],regriding_y[case],new_nx[case],regriding_x[case])),(2,4))\n"
   ]
  },
  {
   "cell_type": "code",
   "execution_count": 58,
   "metadata": {},
   "outputs": [
    {
     "data": {
      "text/plain": [
       "<matplotlib.contour.QuadContourSet at 0x7fd275c7b950>"
      ]
     },
     "execution_count": 58,
     "metadata": {},
     "output_type": "execute_result"
    },
    {
     "data": {
      "image/png": "[encoded data removed]",
      "text/plain": [
       "<Figure size 432x288 with 1 Axes>"
      ]
     },
     "metadata": {
      "needs_background": "light"
     },
     "output_type": "display_data"
    }
   ],
   "source": [
    "plt.contourf(pw[:,:360])"
   ]
  },
  {
   "cell_type": "code",
   "execution_count": 11,
   "metadata": {},
   "outputs": [
    {
     "data": {
      "text/plain": [
       "<matplotlib.contour.QuadContourSet at 0x7fd28600a310>"
      ]
     },
     "execution_count": 11,
     "metadata": {},
     "output_type": "execute_result"
    },
    {
     "data": {
      "image/png": "[encoded data removed]",
      "text/plain": [
       "<Figure size 432x288 with 1 Axes>"
      ]
     },
     "metadata": {
      "needs_background": "light"
     },
     "output_type": "display_data"
    }
   ],
   "source": [
    "plt.contourf(pw[0,:,:])"
   ]
  },
  {
   "cell_type": "code",
   "execution_count": null,
   "metadata": {},
   "outputs": [],
   "source": []
  }
 ],
 "metadata": {
  "kernelspec": {
   "display_name": "Python 3",
   "language": "python",
   "name": "python3"
  },
  "language_info": {
   "codemirror_mode": {
    "name": "ipython",
    "version": 3
   },
   "file_extension": ".py",
   "mimetype": "text/x-python",
   "name": "python",
   "nbconvert_exporter": "python",
   "pygments_lexer": "ipython3",
   "version": "3.7.4"
  }
 },
 "nbformat": 4,
 "nbformat_minor": 2
}
