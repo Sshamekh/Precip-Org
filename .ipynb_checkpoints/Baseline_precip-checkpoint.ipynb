{
 "cells": [
  {
   "cell_type": "code",
   "execution_count": 1,
   "metadata": {},
   "outputs": [
    {
     "name": "stderr",
     "output_type": "stream",
     "text": [
      "Using TensorFlow backend.\n"
     ]
    }
   ],
   "source": [
    "from utils_vae import read_field\n",
    "from netCDF4 import Dataset\n",
    "import numpy as np\n",
    "import matplotlib.pyplot as plt\n",
    "from tensorflow.keras import Model\n",
    "import tensorflow\n",
    "# import keras \n",
    "from tensorflow import keras\n",
    "from tensorflow.keras import layers\n",
    "from tensorflow.keras import backend as K\n",
    "from tensorflow.keras.models import Model\n",
    "from tensorflow.keras.losses import mse\n",
    "import sys, importlib\n",
    "\n",
    "from tensorflow.keras import backend as K\n",
    "from tensorflow.keras.callbacks import LearningRateScheduler\n",
    "from tensorflow.keras.utils import plot_model\n",
    "import tensorflow as tf\n",
    "\n",
    "from tensorflow.keras import regularizers\n",
    "from tensorflow.keras.layers import Input, Dense,Flatten \n",
    "from VAES import encoder_gen , dense_gen,encoder_dense,cloud_model,kl,schedule,decoder_dense\n",
    "import matplotlib.pyplot as plt\n"
   ]
  },
  {
   "cell_type": "code",
   "execution_count": 2,
   "metadata": {},
   "outputs": [
    {
     "name": "stdout",
     "output_type": "stream",
     "text": [
      "2.7.0\n"
     ]
    }
   ],
   "source": [
    "print(tensorflow.__version__)\n",
    "# importlib.reload(sys.modules['VAES'])\n",
    "from VAES import encoder_gen , dense_gen,encoder_dense,cloud_model,kl,schedule,decoder_dense"
   ]
  },
  {
   "cell_type": "code",
   "execution_count": 3,
   "metadata": {},
   "outputs": [],
   "source": [
    "path = \"/glade/scratch/sshamekh/dyamond/SAM_highres/\"\n"
   ]
  },
  {
   "cell_type": "markdown",
   "metadata": {},
   "source": [
    "SAM data: degree in longitude is constant as the radius changes. This means moving poleward, the models resolution increases. The latitudinal resolution has been reduced moving poleward in order for the models grid to stay close to square shape. Models resolution near the equator is about 4.3 and it reduces to 4.1 at 20 S/N. \n",
    "\n",
    "Now, to coarse grain the data, we approxmate models resolution to be 4.2 km in both lon lat direction. \n",
    "Then we decide the rescalaing size. This is our large scale, or GCM size grid. Here I represent it with largescale. "
   ]
  },
  {
   "cell_type": "code",
   "execution_count": 7,
   "metadata": {},
   "outputs": [
    {
     "name": "stdout",
     "output_type": "stream",
     "text": [
      "Reading high resolution input\n",
      "qvi\n",
      "no scaling\n",
      "(760, 97, 1151, 8, 8, 1)\n",
      "Reading large-scale inputs\n",
      "qvi\n",
      "ts\n",
      "tas\n",
      "huss\n",
      "(760, 97, 1151, 4)\n",
      "Reading large-scale outputs\n",
      "pracc\n",
      "(760, 97, 1151, 1)\n",
      "[[[[0.33996129035949707]]]]\n",
      "nt, nlat, nlon, nxy, nxy, nv_hr: (760, 97, 1151, 8, 8, 1)\n"
     ]
    }
   ],
   "source": [
    "# %%time\n",
    "import sys, importlib\n",
    "importlib.reload(sys.modules['utils_vae'])\n",
    "from utils_vae import train_test_data\n",
    "t1 = 0\n",
    "t2 = 8\n",
    "high_res = 4.0 # km \n",
    "large_scale = 32 #km\n",
    "dim = int(large_scale/high_res)\n",
    "\n",
    "x_hr,x_lg,y_out = train_test_data(path, high_res,large_scale,t1,t2,threshold_precip = 0.01)\n"
   ]
  },
  {
   "cell_type": "code",
   "execution_count": 8,
   "metadata": {},
   "outputs": [],
   "source": [
    "\n",
    "mask = np.random.rand(x_hr.shape[0])<0.8\n",
    "x_train_hr,x_test_hr = x_hr[mask,:],x_hr[~mask,:]\n",
    "x_train_lg,x_test_lg = x_lg[mask,:],x_lg[~mask,:]\n",
    "\n",
    "y_train_lg,y_test_lg = y_out[mask,:],y_out[~mask,:]"
   ]
  },
  {
   "cell_type": "code",
   "execution_count": 44,
   "metadata": {},
   "outputs": [
    {
     "data": {
      "text/plain": [
       "(2770533, 4)"
      ]
     },
     "execution_count": 44,
     "metadata": {},
     "output_type": "execute_result"
    }
   ],
   "source": [
    "x_test_lg.shape"
   ]
  },
  {
   "cell_type": "code",
   "execution_count": 21,
   "metadata": {},
   "outputs": [],
   "source": [
    "# # Opening JSON file\n",
    "# with open('model_config05.json') as json_file:\n",
    "#     model_config = json.load(json_file)\n",
    "# importlib.reload(sys.modules['VAES'])\n",
    "from VAES import encoder_gen , dense_gen,encoder_dense,cloud_model,kl,schedule,decoder_dense\n",
    "model_config = {'inshape': [4],\n",
    " 'configs_encoder': {'activation': 'relu',\n",
    "  'latent_dim': 4,\n",
    "  'conv_1': {'filter_num': 16, 'kernel_size': [4, 4], 'stride': 2},\n",
    "  'conv_2': {'filter_num': 16, 'kernel_size': [4, 4], 'stride': 2},\n",
    "  'conv_3': {'filter_num': 8, 'kernel_size': [4, 4], 'stride': 2},\n",
    "  'dense_1': {'unit_num': 128},\n",
    "  'dense_2': {'unit_num': 64},\n",
    "  'dense_3': {'unit_num': 32},\n",
    "  'dense_4': {'unit_num': 16},\n",
    "  'dense_5': {'activation': None}},\n",
    " 'config_decoder': {'latent_dim': 4,\n",
    "  'activation': 'relu',\n",
    "  'dense1': {'unit_num': 64},\n",
    "  'dense2': {'unit_num': 128},\n",
    "  'dense3': {'unit_num': 265},\n",
    "  'dense4': {'unit_num': 512},\n",
    "  'dense5': {'unit_num': dim**2}},\n",
    " 'config_dense': {'activation': 'relu',\n",
    "  'layer_1': {'unit_num': 128},\n",
    "  'layer_2': {'unit_num': 128},\n",
    "  'layer_3': {'unit_num': 128},\n",
    "  'layer_4': {'unit_num': 64},\n",
    "  'layer_5': {'unit_num': 2, 'activation': None}},\n",
    " 'config_cloudnn': {'activation': 'relu',\n",
    "  'layer_1': {'unit_num': 64},\n",
    "  'layer_2': {'unit_num': 64},\n",
    "  'layer_3': {'unit_num': 32},\n",
    "  'layer_4': {'unit_num': 16},\n",
    "  'layer_5': {'unit_num': 2, 'activation': None}}}"
   ]
  },
  {
   "cell_type": "code",
   "execution_count": 34,
   "metadata": {},
   "outputs": [],
   "source": [
    "class Loss_log_like( keras.layers.Layer ):\n",
    "    def __init__(self,name = None):\n",
    "        super(Loss_log_like,self).__init__(name= name)\n",
    "        self.loss_mse = tf.keras.losses.MeanSquaredError()\n",
    "    \n",
    "    def call(self,inputs , weights = 1):\n",
    "        n_dims = 1\n",
    "        ytrue,ypred = inputs['true'],inputs['pred']\n",
    "        mu = ypred[:, 0:n_dims]\n",
    "        logsigma = ypred[:, n_dims:]\n",
    "\n",
    "        mse = -0.5*K.sum(K.square((ytrue-mu)/K.exp(logsigma)),axis=1)\n",
    "        sigma_trace = -K.sum(logsigma, axis=1)\n",
    "        log2pi = -0.5*n_dims*np.log(2*np.pi)\n",
    "\n",
    "        log_likelihood = mse+sigma_trace+log2pi\n",
    "\n",
    "    \n",
    "        loss = K.mean(-log_likelihood)\n",
    "        self.add_loss(weights*loss)\n",
    "        \n",
    "        self.add_metric(loss,name = self.name)\n",
    "        self.add_metric(self.loss_mse(mu,ytrue),name = 'mse_'+self.name)## only for comparison\n",
    "        \n",
    "        \n",
    "        \n",
    "        \n",
    "#         qs = [0.975, 0.995]\n",
    "#         q = tf.constant(np.array([qs]), dtype=tf.float32)\n",
    "#         error = ytrue - mu\n",
    "#         val = tf.maximum(q*error, (q-1)*error)\n",
    "#         lossq = K.mean(val)\n",
    "        \n",
    "#         self.add_loss(2*lossq)\n",
    "#         self.add_metric(lossq,name = self.name+'quntile')\n",
    "\n",
    "        return ypred\n",
    "    \n",
    "\n",
    "    \n",
    "class Loss_Simple( keras.layers.Layer ):\n",
    "    def __init__(self,name = None):\n",
    "        super(Loss_Simple,self).__init__(name= name)\n",
    "        self.loss_mse = tf.keras.losses.MeanSquaredError()\n",
    "    \n",
    "    def call(self,inputs , weights = 1):\n",
    "        n_dims = 1\n",
    "        ytrue,ypred = inputs['true'],inputs['pred']\n",
    "        yp = ypred[:,0]\n",
    "        loss = self.loss_mse(ytrue,yp)\n",
    "        self.add_loss(weights*loss)\n",
    "        self.add_metric(loss,name = self.name)\n",
    "        \n",
    "#         qs = [0.005, 0.025, 0.165, 0.250, 0.500, 0.750, 0.835, 0.975, 0.995]\n",
    "#         q = tf.constant(np.array([qs]), dtype=tf.float32)\n",
    "#         error = ytrue - ypred\n",
    "#         val = tf.maximum(q*error, (q-1)*error)\n",
    "#         loss = K.mean(val)\n",
    "        \n",
    "#         self.add_loss(weights*loss)\n",
    "#         self.add_metric(loss,name = self.name)\n",
    "        \n",
    "        return yp\n",
    "    \n",
    "\n",
    "class Loss_rotation_invariant( keras.layers.Layer ):\n",
    "    \n",
    "    def __init__(self,name = None):\n",
    "        super(Loss_rotation_invariant,self).__init__(name= name)\n",
    "        self.loss_mse = tf.keras.losses.MeanAbsoluteError()\n",
    "        self.lambda_weight = 0.1\n",
    "        \n",
    "    def tf_cov(self,x):\n",
    "            nx = 25\n",
    "            x = tf.reshape(x,(-1,nx*nx))\n",
    "            mean_x = tf.reduce_mean(x, axis=0, keepdims=True)\n",
    "            mx = tf.matmul(tf.transpose(mean_x), mean_x)\n",
    "            vx = tf.matmul(tf.transpose(x), x)/tf.cast(tf.shape(x)[0], tf.float32)\n",
    "            cov_xx = vx - mx\n",
    "            return cov_xx\n",
    "        \n",
    "        \n",
    "    def call (self,inputs, weights = 1):\n",
    "        # loss: reconstruction\n",
    "        y_true,y_pred = inputs['true'],inputs['pred']\n",
    "        \n",
    "        \n",
    "        loss = self.loss_mse(y_true,y_pred)\n",
    "        self.add_loss(weights * loss)\n",
    "        self.add_metric(loss,name = self.name)\n",
    "        \n",
    "        \n",
    "        ## loss: covariance of input output \n",
    "#         cov_compute = self.tf_cov\n",
    "#         covariance_truth =cov_compute(y_true)\n",
    "#         covariance_prediction = cov_compute(y_pred)\n",
    "#         Frobenius_norm = tf.norm(covariance_prediction-covariance_truth, ord=\"euclidean\")\n",
    "        \n",
    "                \n",
    "#         self.add_loss(weights*self.lambda_weight*Frobenius_norm)\n",
    "#         self.add_metric(weights*self.lambda_weight*Frobenius_norm,name = 'loss_std')\n",
    "        \n",
    "        \n",
    "        return y_pred"
   ]
  },
  {
   "cell_type": "code",
   "execution_count": 46,
   "metadata": {},
   "outputs": [
    {
     "name": "stdout",
     "output_type": "stream",
     "text": [
      "output shape is:  (None, 2)\n"
     ]
    }
   ],
   "source": [
    "coef = 1e1\n",
    "inshape = 2\n",
    "\n",
    "inshape_precip = (inshape)\n",
    "\n",
    "precip_model = dense_gen(inshape_precip,model_config[\"config_dense\"])\n",
    "\n",
    "inputdense = tf.keras.layers.Input(shape=(inshape,))\n",
    "\n",
    "\n",
    "precip_true = tf.keras.layers.Input(shape=(1,))\n",
    "\n",
    "precip = precip_model.dense_nn(inputdense)\n",
    "\n",
    "\n",
    "prec_pred  = Loss_Simple(name = 'precip_loss')({'true':precip_true,'pred':precip}, weights = 1)\n",
    "                                                   \n",
    "\n",
    "vae = tf.keras.Model(inputs=[inputdense,precip_true],\n",
    "                     outputs=[prec_pred])\n",
    "\n",
    "optimizer = tensorflow.keras.optimizers.Adam(learning_rate=0.0004)\n",
    "callback_lr=LearningRateScheduler(schedule,verbose=1)\n",
    "earlyStopping=tensorflow.keras.callbacks.EarlyStopping(monitor='val_loss', patience=7, verbose=0, mode='auto')\n",
    "\n",
    "vae.compile(optimizer = optimizer)\n",
    "\n"
   ]
  },
  {
   "cell_type": "code",
   "execution_count": null,
   "metadata": {},
   "outputs": [
    {
     "name": "stdout",
     "output_type": "stream",
     "text": [
      "Epoch 1/100\n",
      "\n",
      "Epoch 00001: LearningRateScheduler setting learning rate to 0.0004.\n",
      "30332/30332 [==============================] - 65s 2ms/step - loss: 0.4853 - precip_loss: 0.4853 - val_loss: 0.4820 - val_precip_loss: 0.4820\n",
      "Epoch 2/100\n",
      "\n",
      "Epoch 00002: LearningRateScheduler setting learning rate to 0.0004.\n",
      "30314/30332 [============================>.] - ETA: 0s - loss: 0.4815 - precip_loss: 0.4815"
     ]
    }
   ],
   "source": [
    "%%time\n",
    "hist = vae.fit(\n",
    "        x=[x_train_lg[:,:2],y_train_lg],\n",
    "        epochs=100,\n",
    "        batch_size=256,\n",
    "        validation_split = 0.3,\n",
    "        callbacks= [earlyStopping,callback_lr],\n",
    "        shuffle = True\n",
    "    )"
   ]
  },
  {
   "cell_type": "code",
   "execution_count": 9,
   "metadata": {},
   "outputs": [
    {
     "name": "stderr",
     "output_type": "stream",
     "text": [
      "2022-06-14 04:34:52.651049: I tensorflow/core/platform/cpu_feature_guard.cc:151] This TensorFlow binary is optimized with oneAPI Deep Neural Network Library (oneDNN) to use the following CPU instructions in performance-critical operations:  SSE4.1 SSE4.2 AVX AVX2 FMA\n",
      "To enable them in other operations, rebuild TensorFlow with the appropriate compiler flags.\n"
     ]
    },
    {
     "name": "stdout",
     "output_type": "stream",
     "text": [
      "shape of input after padding (None, 24, 24, 1)\n",
      "shape after first convolutional layer (None, 13, 12, 16)\n",
      "shape after second convolutional layer (None, 7, 6, 16)\n",
      "shape before flattening (None, 4, 3, 8)\n",
      "shape after flattening (None, 4)\n",
      "shape at beginning of decoder (None, 576)\n",
      "shape after conv recon layer (None, 24, 24)\n",
      "output shape is:  (None, 16)\n",
      "output shape is:  (None, 2)\n",
      "KerasTensor(type_spec=TensorSpec(shape=(None, 4), dtype=tf.float32, name=None), name='model/xmean/BiasAdd:0', description=\"created by layer 'model'\") zz\n"
     ]
    }
   ],
   "source": [
    "coef = 1e1\n",
    "inshape = 4\n",
    "inshape_cloud = (inshape+model_config[\"configs_encoder\"]['latent_dim'],)\n",
    "inshape_precip = (inshape+model_config[\"configs_encoder\"]['latent_dim'],)\n",
    "\n",
    "## rotating data in batch while training \n",
    "data_augmentation = tf.keras.Sequential([\n",
    "  layers.experimental.preprocessing.RandomFlip(\"horizontal_and_vertical\"),\n",
    "    layers.experimental.preprocessing.RandomFlip(\"horizontal_and_vertical\"),\n",
    "#   layers.experimental.preprocessing.RandomRotation(1,fill_mode= 'wrap',\n",
    "#     interpolation='bilinear',\n",
    "# )\n",
    "])\n",
    "\n",
    "encoder_result = encoder_gen((dim, dim,1),model_config[\"configs_encoder\"])\n",
    "decode_zz = decoder_dense((dim, dim),model_config[\"config_decoder\"])\n",
    "\n",
    "clouds_cc = cloud_model(inshape_cloud,model_config[\"config_cloudnn\"])\n",
    "precip_model = dense_gen(inshape_precip,model_config[\"config_dense\"])\n",
    "\n",
    "inputhighres = tf.keras.layers.Input(shape=(dim, dim,1))\n",
    "# input_rotate = data_augmentation(inputhighres)\n",
    "inputdense = tf.keras.layers.Input(shape=(inshape,))\n",
    "\n",
    "\n",
    "precip_true = tf.keras.layers.Input(shape=(1,))\n",
    "cloud_true = tf.keras.layers.Input(shape=(1,))\n",
    "\n",
    "\n",
    "\n",
    "z_orig = encoder_result.vae_encoder(inputhighres)\n",
    "\n",
    "\n",
    "print (z_orig,'zz')\n",
    "\n",
    "# hr_reconst= decode_zz(z_orig)\n",
    "\n",
    "\n",
    "z_clt = tf.keras.layers.Concatenate(axis = -1)([z_orig,inputdense])\n",
    "cloud_cover = clouds_cc(z_clt)\n",
    "\n",
    "\n",
    "# cloud_p,_ = tf.split(cloud_cover,num_or_size_splits=2,axis = -1)\n",
    "# zz = tf.keras.layers.Concatenate(axis = -1)([z_orig,inputdense])\n",
    "\n",
    "precip = precip_model.dense_nn(z_clt)\n",
    "\n",
    "\n",
    "prec_pred  = Loss_log_like(name = 'precip_loss')({'true':precip_true,'pred':precip}, weights = 0.6)\n",
    "# cloud_pred = Loss_log_like(name = 'cld_loss'   )({'true':cloud_true,'pred':cloud_cover}, weights = 0.1)\n",
    "# hr_pred = Loss_rotation_invariant(name= 'hr_loss')({'true':inputhighres,'pred':hr_reconst\n",
    "#                                             }, weights = 0.3)\n",
    "                                                   \n",
    "\n",
    "vae = tf.keras.Model(inputs=[inputhighres,inputdense,precip_true],\n",
    "                     outputs=[prec_pred])\n",
    "\n",
    "optimizer = tensorflow.keras.optimizers.Adam(learning_rate=0.0004)\n",
    "callback_lr=LearningRateScheduler(schedule,verbose=1)\n",
    "earlyStopping=tensorflow.keras.callbacks.EarlyStopping(monitor='val_loss', patience=7, verbose=0, mode='auto')\n",
    "\n",
    "vae.compile(optimizer = optimizer)\n",
    "\n"
   ]
  },
  {
   "cell_type": "code",
   "execution_count": 10,
   "metadata": {},
   "outputs": [
    {
     "name": "stdout",
     "output_type": "stream",
     "text": [
      "Model: \"model_1\"\n",
      "__________________________________________________________________________________________________\n",
      "Layer (type)                    Output Shape         Param #     Connected to                     \n",
      "==================================================================================================\n",
      "input_5 (InputLayer)            [(None, 24, 24, 1)]  0                                            \n",
      "__________________________________________________________________________________________________\n",
      "model (Functional)              (None, 4)            6828        input_5[0][0]                    \n",
      "__________________________________________________________________________________________________\n",
      "input_6 (InputLayer)            [(None, 4)]          0                                            \n",
      "__________________________________________________________________________________________________\n",
      "concatenate (Concatenate)       (None, 8)            0           model[0][0]                      \n",
      "                                                                 input_6[0][0]                    \n",
      "__________________________________________________________________________________________________\n",
      "precip (Functional)             (None, 2)            42562       concatenate[0][0]                \n",
      "__________________________________________________________________________________________________\n",
      "input_7 (InputLayer)            [(None, 1)]          0                                            \n",
      "__________________________________________________________________________________________________\n",
      "precip_loss (Loss_log_like)     (None, 2)            0           precip[0][0]                     \n",
      "                                                                 input_7[0][0]                    \n",
      "==================================================================================================\n",
      "Total params: 49,390\n",
      "Trainable params: 49,390\n",
      "Non-trainable params: 0\n",
      "__________________________________________________________________________________________________\n"
     ]
    }
   ],
   "source": [
    "vae.summary()"
   ]
  },
  {
   "cell_type": "code",
   "execution_count": 11,
   "metadata": {
    "scrolled": true,
    "tags": []
   },
   "outputs": [
    {
     "name": "stdout",
     "output_type": "stream",
     "text": [
      "Epoch 1/100\n",
      "\n",
      "Epoch 00001: LearningRateScheduler setting learning rate to 0.0004.\n",
      "8047/8047 [==============================] - 50s 6ms/step - loss: -1.1031 - precip_loss: -1.9268 - mse_precip_loss: 0.0339 - precip_lossquntile: 0.0265 - val_loss: -1.3450 - val_precip_loss: -2.3442 - val_mse_precip_loss: 0.0223 - val_precip_lossquntile: 0.0308\n",
      "Epoch 2/100\n",
      "\n",
      "Epoch 00002: LearningRateScheduler setting learning rate to 0.0004.\n",
      "8047/8047 [==============================] - 46s 6ms/step - loss: -1.4096 - precip_loss: -2.4195 - mse_precip_loss: 0.0305 - precip_lossquntile: 0.0210 - val_loss: -1.1720 - val_precip_loss: -2.0586 - val_mse_precip_loss: 0.0230 - val_precip_lossquntile: 0.0316\n",
      "Epoch 3/100\n",
      "\n",
      "Epoch 00003: LearningRateScheduler setting learning rate to 0.0004.\n",
      "8047/8047 [==============================] - 46s 6ms/step - loss: -1.3585 - precip_loss: -2.3409 - mse_precip_loss: 0.0298 - precip_lossquntile: 0.0230 - val_loss: -1.4112 - val_precip_loss: -2.4490 - val_mse_precip_loss: 0.0219 - val_precip_lossquntile: 0.0291\n",
      "Epoch 4/100\n",
      "\n",
      "Epoch 00004: LearningRateScheduler setting learning rate to 0.0004.\n",
      "8047/8047 [==============================] - 46s 6ms/step - loss: -1.4971 - precip_loss: -2.5625 - mse_precip_loss: 0.0295 - precip_lossquntile: 0.0202 - val_loss: -1.3883 - val_precip_loss: -2.3656 - val_mse_precip_loss: 0.0258 - val_precip_lossquntile: 0.0155\n",
      "Epoch 5/100\n",
      "\n",
      "Epoch 00005: LearningRateScheduler setting learning rate to 0.0004.\n",
      "8047/8047 [==============================] - 46s 6ms/step - loss: -1.6367 - precip_loss: -2.7875 - mse_precip_loss: 0.0247 - precip_lossquntile: 0.0179 - val_loss: -1.6377 - val_precip_loss: -2.7721 - val_mse_precip_loss: 0.0265 - val_precip_lossquntile: 0.0128\n",
      "Epoch 6/100\n",
      "\n",
      "Epoch 00006: LearningRateScheduler setting learning rate to 0.0004.\n",
      "8047/8047 [==============================] - 46s 6ms/step - loss: -1.6055 - precip_loss: -2.7429 - mse_precip_loss: 0.0279 - precip_lossquntile: 0.0201 - val_loss: -1.7347 - val_precip_loss: -2.9661 - val_mse_precip_loss: 0.0194 - val_precip_lossquntile: 0.0225\n",
      "Epoch 7/100\n",
      "\n",
      "Epoch 00007: LearningRateScheduler setting learning rate to 0.0004.\n",
      "8047/8047 [==============================] - 46s 6ms/step - loss: -1.6707 - precip_loss: -2.8431 - mse_precip_loss: 0.0247 - precip_lossquntile: 0.0176 - val_loss: -1.5161 - val_precip_loss: -2.6190 - val_mse_precip_loss: 0.0175 - val_precip_lossquntile: 0.0277\n",
      "Epoch 8/100\n",
      "\n",
      "Epoch 00008: LearningRateScheduler setting learning rate to 0.0004.\n",
      "8047/8047 [==============================] - 46s 6ms/step - loss: -1.6957 - precip_loss: -2.8839 - mse_precip_loss: 0.0231 - precip_lossquntile: 0.0173 - val_loss: -1.4364 - val_precip_loss: -2.4245 - val_mse_precip_loss: 0.0340 - val_precip_lossquntile: 0.0092\n",
      "Epoch 9/100\n",
      "\n",
      "Epoch 00009: LearningRateScheduler setting learning rate to 0.0004.\n",
      "8047/8047 [==============================] - 46s 6ms/step - loss: -1.6948 - precip_loss: -2.8815 - mse_precip_loss: 0.0247 - precip_lossquntile: 0.0170 - val_loss: -1.7175 - val_precip_loss: -2.9223 - val_mse_precip_loss: 0.0183 - val_precip_lossquntile: 0.0179\n",
      "Epoch 10/100\n",
      "\n",
      "Epoch 00010: LearningRateScheduler setting learning rate to 0.0004.\n",
      "8047/8047 [==============================] - 46s 6ms/step - loss: -1.7692 - precip_loss: -3.0024 - mse_precip_loss: 0.0212 - precip_lossquntile: 0.0161 - val_loss: -1.8366 - val_precip_loss: -3.1132 - val_mse_precip_loss: 0.0177 - val_precip_lossquntile: 0.0157\n",
      "Epoch 11/100\n",
      "\n",
      "Epoch 00011: LearningRateScheduler setting learning rate to 0.0004.\n",
      "8047/8047 [==============================] - 46s 6ms/step - loss: -1.8047 - precip_loss: -3.0592 - mse_precip_loss: 0.0194 - precip_lossquntile: 0.0154 - val_loss: -1.2867 - val_precip_loss: -2.2241 - val_mse_precip_loss: 0.0151 - val_precip_lossquntile: 0.0239\n",
      "Epoch 12/100\n",
      "\n",
      "Epoch 00012: LearningRateScheduler setting learning rate to 0.0004.\n",
      "8047/8047 [==============================] - 46s 6ms/step - loss: -1.7672 - precip_loss: -2.9992 - mse_precip_loss: 0.0212 - precip_lossquntile: 0.0161 - val_loss: -1.8055 - val_precip_loss: -3.0692 - val_mse_precip_loss: 0.0163 - val_precip_lossquntile: 0.0180\n",
      "Epoch 13/100\n",
      "\n",
      "Epoch 00013: LearningRateScheduler setting learning rate to 0.0004.\n",
      "8047/8047 [==============================] - 46s 6ms/step - loss: -1.8413 - precip_loss: -3.1180 - mse_precip_loss: 0.0177 - precip_lossquntile: 0.0148 - val_loss: -1.8273 - val_precip_loss: -3.1082 - val_mse_precip_loss: 0.0149 - val_precip_lossquntile: 0.0188\n",
      "Epoch 14/100\n",
      "\n",
      "Epoch 00014: LearningRateScheduler setting learning rate to 0.0004.\n",
      "8047/8047 [==============================] - 47s 6ms/step - loss: -1.7695 - precip_loss: -3.0030 - mse_precip_loss: 0.0207 - precip_lossquntile: 0.0162 - val_loss: -1.2944 - val_precip_loss: -2.2842 - val_mse_precip_loss: 0.0266 - val_precip_lossquntile: 0.0381\n",
      "Epoch 15/100\n",
      "\n",
      "Epoch 00015: LearningRateScheduler setting learning rate to 0.0004.\n",
      "8047/8047 [==============================] - 47s 6ms/step - loss: -1.8158 - precip_loss: -3.0779 - mse_precip_loss: 0.0193 - precip_lossquntile: 0.0155 - val_loss: -1.7920 - val_precip_loss: -3.0670 - val_mse_precip_loss: 0.0149 - val_precip_lossquntile: 0.0241\n",
      "Epoch 16/100\n",
      "\n",
      "Epoch 00016: LearningRateScheduler setting learning rate to 0.0004.\n",
      "8047/8047 [==============================] - 47s 6ms/step - loss: -1.8355 - precip_loss: -3.1088 - mse_precip_loss: 0.0183 - precip_lossquntile: 0.0149 - val_loss: -1.8698 - val_precip_loss: -3.1690 - val_mse_precip_loss: 0.0154 - val_precip_lossquntile: 0.0158\n",
      "Epoch 17/100\n",
      "\n",
      "Epoch 00017: LearningRateScheduler setting learning rate to 0.0004.\n",
      "8047/8047 [==============================] - 47s 6ms/step - loss: -1.8167 - precip_loss: -3.0783 - mse_precip_loss: 0.0185 - precip_lossquntile: 0.0151 - val_loss: -1.8223 - val_precip_loss: -3.0834 - val_mse_precip_loss: 0.0177 - val_precip_lossquntile: 0.0138\n",
      "Epoch 18/100\n",
      "\n",
      "Epoch 00018: LearningRateScheduler setting learning rate to 0.0004.\n",
      "8047/8047 [==============================] - 47s 6ms/step - loss: -1.8460 - precip_loss: -3.1264 - mse_precip_loss: 0.0187 - precip_lossquntile: 0.0149 - val_loss: -1.8580 - val_precip_loss: -3.1440 - val_mse_precip_loss: 0.0150 - val_precip_lossquntile: 0.0142\n",
      "Epoch 19/100\n",
      "\n",
      "Epoch 00019: LearningRateScheduler setting learning rate to 0.0004.\n",
      "8047/8047 [==============================] - 47s 6ms/step - loss: -1.8592 - precip_loss: -3.1478 - mse_precip_loss: 0.0173 - precip_lossquntile: 0.0147 - val_loss: -1.8091 - val_precip_loss: -3.0977 - val_mse_precip_loss: 0.0147 - val_precip_lossquntile: 0.0247\n",
      "Epoch 20/100\n",
      "\n",
      "Epoch 00020: LearningRateScheduler setting learning rate to 0.0004.\n",
      "8047/8047 [==============================] - 47s 6ms/step - loss: -1.8973 - precip_loss: -3.2087 - mse_precip_loss: 0.0162 - precip_lossquntile: 0.0140 - val_loss: -1.8289 - val_precip_loss: -3.1091 - val_mse_precip_loss: 0.0141 - val_precip_lossquntile: 0.0183\n",
      "Epoch 21/100\n",
      "\n",
      "Epoch 00021: LearningRateScheduler setting learning rate to 0.0002.\n",
      "8047/8047 [==============================] - 47s 6ms/step - loss: -1.9638 - precip_loss: -3.3172 - mse_precip_loss: 0.0143 - precip_lossquntile: 0.0132 - val_loss: -1.9055 - val_precip_loss: -3.2293 - val_mse_precip_loss: 0.0126 - val_precip_lossquntile: 0.0160\n",
      "Epoch 22/100\n",
      "\n",
      "Epoch 00022: LearningRateScheduler setting learning rate to 0.0002.\n",
      "8047/8047 [==============================] - 47s 6ms/step - loss: -1.9831 - precip_loss: -3.3484 - mse_precip_loss: 0.0136 - precip_lossquntile: 0.0129 - val_loss: -1.4358 - val_precip_loss: -2.4194 - val_mse_precip_loss: 0.0389 - val_precip_lossquntile: 0.0079\n",
      "Epoch 23/100\n",
      "\n",
      "Epoch 00023: LearningRateScheduler setting learning rate to 0.0002.\n",
      "8047/8047 [==============================] - 47s 6ms/step - loss: -1.9870 - precip_loss: -3.3545 - mse_precip_loss: 0.0136 - precip_lossquntile: 0.0129 - val_loss: -1.9098 - val_precip_loss: -3.2446 - val_mse_precip_loss: 0.0117 - val_precip_lossquntile: 0.0185\n",
      "Epoch 24/100\n",
      "\n",
      "Epoch 00024: LearningRateScheduler setting learning rate to 0.0002.\n",
      "8047/8047 [==============================] - 47s 6ms/step - loss: -1.9890 - precip_loss: -3.3576 - mse_precip_loss: 0.0135 - precip_lossquntile: 0.0128 - val_loss: -1.9282 - val_precip_loss: -3.2720 - val_mse_precip_loss: 0.0115 - val_precip_lossquntile: 0.0175\n",
      "Epoch 25/100\n",
      "\n",
      "Epoch 00025: LearningRateScheduler setting learning rate to 0.0002.\n",
      "8047/8047 [==============================] - 47s 6ms/step - loss: -1.9897 - precip_loss: -3.3588 - mse_precip_loss: 0.0135 - precip_lossquntile: 0.0128 - val_loss: -1.9659 - val_precip_loss: -3.3128 - val_mse_precip_loss: 0.0164 - val_precip_lossquntile: 0.0109\n",
      "Epoch 26/100\n",
      "\n",
      "Epoch 00026: LearningRateScheduler setting learning rate to 0.0002.\n",
      "8047/8047 [==============================] - 47s 6ms/step - loss: -1.9105 - precip_loss: -3.2303 - mse_precip_loss: 0.0166 - precip_lossquntile: 0.0138 - val_loss: -1.9241 - val_precip_loss: -3.2401 - val_mse_precip_loss: 0.0200 - val_precip_lossquntile: 0.0100\n",
      "Epoch 27/100\n",
      "\n",
      "Epoch 00027: LearningRateScheduler setting learning rate to 0.0002.\n",
      "8047/8047 [==============================] - 49s 6ms/step - loss: -1.9941 - precip_loss: -3.3661 - mse_precip_loss: 0.0133 - precip_lossquntile: 0.0128 - val_loss: -1.9325 - val_precip_loss: -3.2833 - val_mse_precip_loss: 0.0113 - val_precip_lossquntile: 0.0187\n",
      "Epoch 28/100\n",
      "\n",
      "Epoch 00028: LearningRateScheduler setting learning rate to 0.0002.\n",
      "8047/8047 [==============================] - 47s 6ms/step - loss: -2.0092 - precip_loss: -3.3904 - mse_precip_loss: 0.0128 - precip_lossquntile: 0.0125 - val_loss: -1.9608 - val_precip_loss: -3.3021 - val_mse_precip_loss: 0.0159 - val_precip_lossquntile: 0.0102\n",
      "Epoch 29/100\n",
      "\n",
      "Epoch 00029: LearningRateScheduler setting learning rate to 0.0002.\n",
      "8047/8047 [==============================] - 51s 6ms/step - loss: -2.0072 - precip_loss: -3.3871 - mse_precip_loss: 0.0129 - precip_lossquntile: 0.0125 - val_loss: -1.9485 - val_precip_loss: -3.2995 - val_mse_precip_loss: 0.0114 - val_precip_lossquntile: 0.0156\n",
      "Epoch 30/100\n",
      "\n",
      "Epoch 00030: LearningRateScheduler setting learning rate to 0.0002.\n",
      "8047/8047 [==============================] - 51s 6ms/step - loss: -2.0024 - precip_loss: -3.3797 - mse_precip_loss: 0.0139 - precip_lossquntile: 0.0127 - val_loss: -1.6582 - val_precip_loss: -2.8616 - val_mse_precip_loss: 0.0201 - val_precip_lossquntile: 0.0294\n",
      "Epoch 31/100\n",
      "\n",
      "Epoch 00031: LearningRateScheduler setting learning rate to 0.0001.\n",
      "8047/8047 [==============================] - 49s 6ms/step - loss: -2.0388 - precip_loss: -3.4393 - mse_precip_loss: 0.0122 - precip_lossquntile: 0.0124 - val_loss: -1.9235 - val_precip_loss: -3.2448 - val_mse_precip_loss: 0.0126 - val_precip_lossquntile: 0.0117\n",
      "Epoch 32/100\n",
      "\n",
      "Epoch 00032: LearningRateScheduler setting learning rate to 0.0001.\n",
      "8047/8047 [==============================] - 52s 6ms/step - loss: -2.0559 - precip_loss: -3.4666 - mse_precip_loss: 0.0117 - precip_lossquntile: 0.0121 - val_loss: -1.9677 - val_precip_loss: -3.3399 - val_mse_precip_loss: 0.0109 - val_precip_lossquntile: 0.0181\n",
      "Epoch 33/100\n",
      "\n",
      "Epoch 00033: LearningRateScheduler setting learning rate to 0.0001.\n",
      "8047/8047 [==============================] - 48s 6ms/step - loss: -2.0536 - precip_loss: -3.4631 - mse_precip_loss: 0.0120 - precip_lossquntile: 0.0121 - val_loss: -1.9658 - val_precip_loss: -3.3326 - val_mse_precip_loss: 0.0109 - val_precip_lossquntile: 0.0169\n",
      "Epoch 34/100\n",
      "\n",
      "Epoch 00034: LearningRateScheduler setting learning rate to 0.0001.\n",
      "8047/8047 [==============================] - 50s 6ms/step - loss: -2.0618 - precip_loss: -3.4763 - mse_precip_loss: 0.0115 - precip_lossquntile: 0.0120 - val_loss: -1.9736 - val_precip_loss: -3.3414 - val_mse_precip_loss: 0.0111 - val_precip_lossquntile: 0.0156\n",
      "Epoch 35/100\n",
      "\n",
      "Epoch 00035: LearningRateScheduler setting learning rate to 0.0001.\n",
      "8047/8047 [==============================] - 52s 7ms/step - loss: -2.0652 - precip_loss: -3.4818 - mse_precip_loss: 0.0115 - precip_lossquntile: 0.0119 - val_loss: -2.0088 - val_precip_loss: -3.3945 - val_mse_precip_loss: 0.0111 - val_precip_lossquntile: 0.0140\n",
      "Epoch 36/100\n",
      "\n",
      "Epoch 00036: LearningRateScheduler setting learning rate to 0.0001.\n",
      "8047/8047 [==============================] - 51s 6ms/step - loss: -2.0670 - precip_loss: -3.4846 - mse_precip_loss: 0.0114 - precip_lossquntile: 0.0119 - val_loss: -1.9403 - val_precip_loss: -3.2698 - val_mse_precip_loss: 0.0130 - val_precip_lossquntile: 0.0108\n",
      "Epoch 37/100\n",
      "\n",
      "Epoch 00037: LearningRateScheduler setting learning rate to 0.0001.\n",
      "8047/8047 [==============================] - 52s 6ms/step - loss: -2.0690 - precip_loss: -3.4879 - mse_precip_loss: 0.0114 - precip_lossquntile: 0.0119 - val_loss: -2.0045 - val_precip_loss: -3.3852 - val_mse_precip_loss: 0.0119 - val_precip_lossquntile: 0.0133\n",
      "Epoch 38/100\n",
      "\n",
      "Epoch 00038: LearningRateScheduler setting learning rate to 0.0001.\n",
      "8047/8047 [==============================] - 49s 6ms/step - loss: -2.0704 - precip_loss: -3.4903 - mse_precip_loss: 0.0116 - precip_lossquntile: 0.0119 - val_loss: -1.9792 - val_precip_loss: -3.3548 - val_mse_precip_loss: 0.0104 - val_precip_lossquntile: 0.0168\n",
      "Epoch 39/100\n",
      "\n",
      "Epoch 00039: LearningRateScheduler setting learning rate to 0.0001.\n",
      "8047/8047 [==============================] - 47s 6ms/step - loss: -2.0757 - precip_loss: -3.4990 - mse_precip_loss: 0.0112 - precip_lossquntile: 0.0119 - val_loss: -1.9711 - val_precip_loss: -3.3350 - val_mse_precip_loss: 0.0107 - val_precip_lossquntile: 0.0150\n",
      "Epoch 40/100\n",
      "\n",
      "Epoch 00040: LearningRateScheduler setting learning rate to 0.0001.\n",
      "8047/8047 [==============================] - 47s 6ms/step - loss: -2.0761 - precip_loss: -3.4996 - mse_precip_loss: 0.0112 - precip_lossquntile: 0.0118 - val_loss: -1.9729 - val_precip_loss: -3.3262 - val_mse_precip_loss: 0.0133 - val_precip_lossquntile: 0.0114\n",
      "Epoch 41/100\n",
      "\n",
      "Epoch 00041: LearningRateScheduler setting learning rate to 0.0001.\n",
      "8047/8047 [==============================] - 47s 6ms/step - loss: -2.0748 - precip_loss: -3.4975 - mse_precip_loss: 0.0114 - precip_lossquntile: 0.0118 - val_loss: -1.9629 - val_precip_loss: -3.3063 - val_mse_precip_loss: 0.0135 - val_precip_lossquntile: 0.0105\n",
      "Epoch 42/100\n",
      "\n",
      "Epoch 00042: LearningRateScheduler setting learning rate to 0.0001.\n",
      "8047/8047 [==============================] - 49s 6ms/step - loss: -2.0828 - precip_loss: -3.5104 - mse_precip_loss: 0.0111 - precip_lossquntile: 0.0117 - val_loss: -1.9794 - val_precip_loss: -3.3424 - val_mse_precip_loss: 0.0118 - val_precip_lossquntile: 0.0130\n",
      "CPU times: user 13h 42min 5s, sys: 55min 33s, total: 14h 37min 39s\n",
      "Wall time: 33min 28s\n"
     ]
    }
   ],
   "source": [
    "%%time\n",
    "hist = vae.fit(\n",
    "        x=[x_train_hr,x_train_lg,y_train_lg],\n",
    "        epochs=100,\n",
    "        batch_size=256,\n",
    "        validation_split = 0.3,\n",
    "        callbacks= [earlyStopping,callback_lr],\n",
    "        shuffle = True\n",
    "    )"
   ]
  },
  {
   "cell_type": "code",
   "execution_count": 14,
   "metadata": {},
   "outputs": [
    {
     "ename": "KeyError",
     "evalue": "'mse_loss'",
     "output_type": "error",
     "traceback": [
      "\u001b[0;31m---------------------------------------------------------------------------\u001b[0m",
      "\u001b[0;31mKeyError\u001b[0m                                  Traceback (most recent call last)",
      "Input \u001b[0;32mIn [14]\u001b[0m, in \u001b[0;36m<cell line: 3>\u001b[0;34m()\u001b[0m\n\u001b[1;32m      1\u001b[0m fig \u001b[38;5;241m=\u001b[39m plt\u001b[38;5;241m.\u001b[39mfigure(figsize\u001b[38;5;241m=\u001b[39m[\u001b[38;5;241m7\u001b[39m,\u001b[38;5;241m5\u001b[39m])\n\u001b[0;32m----> 3\u001b[0m plt\u001b[38;5;241m.\u001b[39mplot(\u001b[43mhist\u001b[49m\u001b[38;5;241;43m.\u001b[39;49m\u001b[43mhistory\u001b[49m\u001b[43m[\u001b[49m\u001b[38;5;124;43m'\u001b[39;49m\u001b[38;5;124;43mmse_loss\u001b[39;49m\u001b[38;5;124;43m'\u001b[39;49m\u001b[43m]\u001b[49m[:])\n\u001b[1;32m      4\u001b[0m plt\u001b[38;5;241m.\u001b[39mplot(hist\u001b[38;5;241m.\u001b[39mhistory[\u001b[38;5;124m'\u001b[39m\u001b[38;5;124mval_mse_loss\u001b[39m\u001b[38;5;124m'\u001b[39m][:])\n\u001b[1;32m      5\u001b[0m plt\u001b[38;5;241m.\u001b[39mxlabel(\u001b[38;5;124m'\u001b[39m\u001b[38;5;124mEpoch\u001b[39m\u001b[38;5;124m'\u001b[39m)\n",
      "\u001b[0;31mKeyError\u001b[0m: 'mse_loss'"
     ]
    },
    {
     "data": {
      "text/plain": [
       "<Figure size 504x360 with 0 Axes>"
      ]
     },
     "metadata": {},
     "output_type": "display_data"
    }
   ],
   "source": [
    "fig = plt.figure(figsize=[7,5])\n",
    "\n",
    "plt.plot(hist.history['mse_loss'][:])\n",
    "plt.plot(hist.history['val_mse_loss'][:])\n",
    "plt.xlabel('Epoch')\n",
    "plt.ylabel('MSE')\n",
    "           \n",
    "plt.show()\n",
    "\n",
    "# fig.savefig('mse.jpeg',bbox_inches = 'tight',dpi = 100)"
   ]
  },
  {
   "cell_type": "code",
   "execution_count": 37,
   "metadata": {},
   "outputs": [],
   "source": [
    "\n",
    "predict_2 = vae.predict([x_test_lg,y_test_lg])\n",
    "\n",
    "\n"
   ]
  },
  {
   "cell_type": "code",
   "execution_count": 17,
   "metadata": {},
   "outputs": [
    {
     "data": {
      "text/plain": [
       "((2770533, 2), (2770533, 1))"
      ]
     },
     "execution_count": 17,
     "metadata": {},
     "output_type": "execute_result"
    }
   ],
   "source": [
    "predict_2.shape,y_test_lg.shape"
   ]
  },
  {
   "cell_type": "code",
   "execution_count": 38,
   "metadata": {},
   "outputs": [
    {
     "data": {
      "text/plain": [
       "0.38809769636151825"
      ]
     },
     "execution_count": 38,
     "metadata": {},
     "output_type": "execute_result"
    }
   ],
   "source": [
    "from sklearn.metrics import r2_score\n",
    "r2_score(predict_2,y_test_lg)"
   ]
  },
  {
   "cell_type": "code",
   "execution_count": 39,
   "metadata": {},
   "outputs": [
    {
     "name": "stdout",
     "output_type": "stream",
     "text": [
      "0.045907672 0.98308283 0.00937175154685974\n",
      "0.045907672 0.98308283 0.00937175154685974\n"
     ]
    }
   ],
   "source": [
    "import utils\n",
    "\n",
    "avg_pw_lg,avg_pred_lg,std_pw_lg,std_pred_lg = utils.bin_threshold(x_test_lg[:,0],np.exp(predict_2[:,1]),100)\n",
    "avg_pw,avg_pred_clt,std_pw_clt,std_pred_clt = utils.bin_threshold(x_test_lg[:,0],y_test_lg,100)\n"
   ]
  },
  {
   "cell_type": "code",
   "execution_count": 40,
   "metadata": {},
   "outputs": [
    {
     "data": {
      "image/png": "[encoded data removed]",
      "text/plain": [
       "<Figure size 504x360 with 1 Axes>"
      ]
     },
     "metadata": {
      "needs_background": "light"
     },
     "output_type": "display_data"
    }
   ],
   "source": [
    "fig = plt.figure(figsize=[7,5])\n",
    "\n",
    "\n",
    "plt.fill_between(np.array(avg_pw),np.array(avg_pred_clt)-np.array(std_pred_clt),\n",
    "                 np.array(avg_pred_clt)+np.array(std_pred_clt),alpha = 0.5,color = 'blue')\n",
    "plt.plot(np.array(avg_pw),avg_pred_clt,color = 'navy',linestyle = ':',label = 'True'\n",
    "        ,linewidth=3)\n",
    "plt.fill_between(np.array(avg_pw),np.array(avg_pred_lg)-np.array(std_pred_lg),\n",
    "                 np.array(avg_pred_lg)+np.array(std_pred_lg),alpha = 0.5,color='orange')\n",
    "plt.plot(np.array(avg_pw),avg_pred_lg,color = 'orange',linestyle = '-',label = 'predicted',linewidth=3)\n",
    "\n",
    "\n",
    "\n",
    "# plt.fill_between(np.array(avg_pw),(np.array(avg_pred)-np.array(std_pred)),\n",
    "#                  (np.array(avg_pred)+np.array(std_pred)),alpha = 0.5,color='green')\n",
    "# plt.plot(np.array(avg_pw),np.array(avg_pred),color = 'green',linestyle = '-.',label = 'Prediction'\n",
    "#         ,linewidth=3)\n",
    "fn = 13\n",
    "plt.legend(loc = 2,fontsize =fn)\n",
    "plt.ylabel('Precipitation',fontsize = fn+2)\n",
    "\n",
    "plt.xlabel('PW-scaled',fontsize = fn+2)\n",
    "plt.xlim()\n",
    "# plt.ylim(-2,4)\n",
    "# plt.ylim(0.,3.5)\n",
    "# \n",
    "plt.tick_params(axis='both', which='major', labelsize=fn)\n",
    "\n",
    "# fig.savefig('precip_pw_32_2.jpeg')\n",
    "plt.show()"
   ]
  },
  {
   "cell_type": "code",
   "execution_count": 34,
   "metadata": {},
   "outputs": [],
   "source": [
    "# z_predict = encoder_result.vae_encoder.predict(x_test_hr)\n",
    "inds = np.where(y_test_lg>0.1)\n",
    "precip = y_test_lg[inds[0],:]\n",
    "z_pp = z_predict[inds[0],:]"
   ]
  },
  {
   "cell_type": "code",
   "execution_count": 43,
   "metadata": {},
   "outputs": [],
   "source": [
    "x_pp = x_test_lg[inds[0],:]"
   ]
  },
  {
   "cell_type": "code",
   "execution_count": 49,
   "metadata": {},
   "outputs": [
    {
     "data": {
      "image/png": "[encoded data removed]",
      "text/plain": [
       "<Figure size 360x360 with 1 Axes>"
      ]
     },
     "metadata": {
      "needs_background": "light"
     },
     "output_type": "display_data"
    }
   ],
   "source": [
    "fig = plt.figure(figsize=[5,5])\n",
    "plt.scatter(z_pp[:,3],z_pp[:,0],c = x_pp[:,0])\n",
    "plt.xlabel('zl_1',fontsize = 16)\n",
    "plt.ylabel('zl_2',fontsize = 16)\n",
    "plt.show()\n",
    "# z_predict.shape,z_predict_r.shape"
   ]
  },
  {
   "cell_type": "markdown",
   "metadata": {},
   "source": [
    "### reconst =decode_zz.predict(z_predict)\n"
   ]
  },
  {
   "cell_type": "code",
   "execution_count": null,
   "metadata": {},
   "outputs": [],
   "source": [
    "vae.hist"
   ]
  },
  {
   "cell_type": "code",
   "execution_count": null,
   "metadata": {},
   "outputs": [],
   "source": [
    "# encoder_result.vae_encoder= keras.models.load_model('encoder_06')\n",
    "# precip_model.dense_nn= keras.models.load_model('precip_dense_vae_06')\n",
    "# clouds_cc= keras.models.load_model('cloud_dense_06')\n",
    "# decode_zz= keras.models.load_model('decoder_06')\n",
    "\n",
    "vae=keras.models.load_model('vae_nn_4_24')"
   ]
  },
  {
   "cell_type": "code",
   "execution_count": null,
   "metadata": {},
   "outputs": [],
   "source": [
    "# encoder_result.vae_encoder.save('encoder_4_24')\n",
    "# precip_model.dense_nn.save('precip_dense_vae_4_24')\n",
    "# # clouds_cc.save('cloud_dense_2_32')\n",
    "# # decode_zz.save('decoder_4_32')\n",
    "\n",
    "# vae.save('vae_nn_4_24')\n",
    "# # nn_precip_clt_lg.save('nn_dense_lg_03')\n",
    "# # tf.keras.models.save_model('encoder_2_32',encoder_result.vae_encoder)\n"
   ]
  },
  {
   "cell_type": "code",
   "execution_count": 42,
   "metadata": {},
   "outputs": [
    {
     "data": {
      "image/png": "[encoded data removed]",
      "text/plain": [
       "<Figure size 504x360 with 1 Axes>"
      ]
     },
     "metadata": {
      "needs_background": "light"
     },
     "output_type": "display_data"
    }
   ],
   "source": [
    "fn = 16\n",
    "fig = plt.figure(figsize=[7,5])\n",
    "_= plt.hist(y_test_lg,bins = 100,alpha = 0.7,density = True,label = 'True')\n",
    "_= plt.hist((predict_2),bins = 100,density = True,label = 'Predicted',alpha = 0.7)\n",
    "plt.tick_params(axis='both', which='major', labelsize=fn)\n",
    "plt.legend()\n",
    "plt.ylabel('Probability',fontsize = fn)\n",
    "plt.xlabel('Precipitation',fontsize = fn)\n",
    "plt.yscale('log')\n",
    "# fig.savefig('pdf_precip.jpeg',bbox_inches = 'tight',dpi = 100)\n",
    "plt.show()"
   ]
  },
  {
   "cell_type": "code",
   "execution_count": null,
   "metadata": {},
   "outputs": [],
   "source": []
  }
 ],
 "metadata": {
  "kernelspec": {
   "display_name": "Python [conda env:miniconda-ml_pkgs]",
   "language": "python",
   "name": "conda-env-miniconda-ml_pkgs-py"
  },
  "language_info": {
   "codemirror_mode": {
    "name": "ipython",
    "version": 3
   },
   "file_extension": ".py",
   "mimetype": "text/x-python",
   "name": "python",
   "nbconvert_exporter": "python",
   "pygments_lexer": "ipython3",
   "version": "3.8.13"
  }
 },
 "nbformat": 4,
 "nbformat_minor": 4
}
